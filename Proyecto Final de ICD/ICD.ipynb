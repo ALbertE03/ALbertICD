{
 "cells": [
  {
   "cell_type": "markdown",
   "id": "43168037",
   "metadata": {},
   "source": [
    "#  GRANMA\n",
    "La emigración en la provincia de Granma, es un fenómeno de profunda importancia histórica, social y cultural que ha moldeado la identidad y el destino de numerosas familias y comunidades a lo largo de los años. \n",
    "\n",
    "La provincia de Granma ha sido testigo de olas migratorias que se remontan a décadas atrás, con un flujo constante de personas que han buscado oportunidades más allá de sus fronteras. Desde las zonas rurales hasta las ciudades, la emigración ha impactado profundamente la dinámica social, económica y cultura de la región.\n"
   ]
  },
  {
   "cell_type": "code",
   "execution_count": null,
   "id": "c10b265b",
   "metadata": {},
   "outputs": [],
   "source": []
  }
 ],
 "metadata": {
  "kernelspec": {
   "display_name": "Python 3 (ipykernel)",
   "language": "python",
   "name": "python3"
  },
  "language_info": {
   "codemirror_mode": {
    "name": "ipython",
    "version": 3
   },
   "file_extension": ".py",
   "mimetype": "text/x-python",
   "name": "python",
   "nbconvert_exporter": "python",
   "pygments_lexer": "ipython3",
   "version": "3.11.5"
  }
 },
 "nbformat": 4,
 "nbformat_minor": 5
}
