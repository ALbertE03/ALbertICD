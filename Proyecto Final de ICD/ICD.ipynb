{
 "cells": [
  {
   "cell_type": "markdown",
   "id": "4277c083",
   "metadata": {},
   "source": [
    "#    \"Raíces en Tierras Lejanas\"\n",
    "\n",
    "\n",
    "En un pequeño pueblo en la provincia de Granma, dos amigos de la infancia, Juan y Mireya, crecieron entre los extensos campos de boniato y los frondosos árboles de mango. A medida que crecían, surgieron en ellos sueños de explorar nuevas oportunidades en un lugar diferente, un destino que vieron en la bulliciosa capital de Cuba, La Habana.\n",
    "Impulsados por su ambición y sed de descubrimiento, Juan y Mireya decidieron emprender el viaje en busca de un futuro diferente; dejaron atrás los cultivos familiares, las risas compartidas en la sombra de los árboles de mango y los atardeceres sobre los campos de caña. Después de un largo viaje, finalmente llegaron a La Habana. Allí, se encontraron con un mundo completamente nuevo y emocionante, lleno de oportunidades y posibilidades. \n",
    "\n",
    "En esta breve hisotria se ve evidenciado la emigración, o desplazamiento de personas con el fin de establecerse de manera semipermanente o definitiva en otro lugar, motivado por diversas razones, ya sea como las de Juan y Mireya, en busqueda de nuevas oportunidades, o por situaciones sociales, políticos o incluso ideológicas.\n",
    "\n",
    "\n",
    "\n",
    "\n",
    "\n",
    " "
   ]
  },
  {
   "cell_type": "code",
   "execution_count": 599,
   "id": "f3dee25f",
   "metadata": {
    "scrolled": false
   },
   "outputs": [],
   "source": [
    "#importar las bibliotecas\n",
    "import plotly.express as px\n",
    "import json \n",
    "import pandas as pd\n",
    "import matplotlib.pyplot as plt\n",
    "import numpy as np\n",
    "import seaborn as sns\n",
    "\n",
    "#cargamos los datos de json\n",
    "with open ('datos.json','r')as gr:\n",
    "    dt = gr.read()\n",
    "granma = json.loads(dt)\n",
    "\n",
    "##### función que utilizo #####\n",
    "\n",
    "#función para llenar listas con los datos del Json \n",
    "def llenar_lista(filtro1:str, filtro2:str,lista1:list)->list:\n",
    "    lista = []\n",
    "    for keys,values in granma.items(): #itero el diccionario\n",
    "        if keys == filtro1: #si la clave del diccionario inicial es igual al primer filtro\n",
    "            for clave,valor in values.items(): # itero el segundo diccionario2\n",
    "                if clave in lista1: # si las claves están en la lista1 enviada por parametro\n",
    "                     for key,value in valor.items():# itero el diccionario3 del valor de las claves que esten en la lista1\n",
    "                            if key == filtro2: # si la clave de diccionario3 es igual al ultimo filtro2\n",
    "                                lista.extend(value) #agrego a la lista las lista de listas\n",
    "              \n",
    "    return lista"
   ]
  },
  {
   "cell_type": "markdown",
   "id": "6e237354",
   "metadata": {},
   "source": [
    "\n",
    "#### ¿Cuántas personas han tomado decisiones similares o iguales a la de Juan y Mireya?\n",
    "\n",
    "Muchas personas a lo largo de los años han emigrado hacias otras provincias, antes de la división político administrativa (DPA) del 2011 existia Ciudad de la Habana, la cual era la capital y alcanzó las mayores cantidades de migrantes en los años 2008 y 2010 con 1684,1839 respectivamente. Después de la DPA se incorporan las provincias Artemisa y Mayabeque y deja de exisitr Ciudad de la Habana. La Habana, al pasar a ser la Capital del pais pasa a ser rápidamente el objetivo de la mayor cantidad de personas, por lo que no es de extrañar que fuera la provincia lider en cifras a partir de ese momento, en el 2016 con 2692 y en 2022 con un total de 3314 personas, La Habana alcanza sus picos más altos. Otras provincias donde se alcanza cifras interesantes son Matanzas, Mayabeque y Artemisa que se mantienen con un ritmo relativamente constante de emigrantes en los diferentes años.\n",
    "\n",
    "Provincias como Guantánamo, Pinar del Rio y La Isla de la Juventud presentan un flujo de migrantes granmences muy bajo, dos de ellas ubicadas en la zona más oriental del país (Guantánamo), y la otra en la zona más occidental       (Pinar del Rio). Se concluye que la gran mayoria de los migrantes si deciden tomar decisiones similares a Juan y Mireya con destino hacia la capital o sus alrededores (Matanzas, Mayabeque y Artemisa).\n",
    "##### ¿Porqué pasará esto?\n",
    " Es algo común qué el destino de los migrantes de un pais sea la capital, esta se cuenta con la mayor cantidad de recursos, muchas más oportunidades laborales tanto en la misma capital como en el exterior. Pero no todos tienen acceso a la capital o  no quieren perder el ambiente rural y deciden optar con ubicaciones a sus fornteras, así grantizan un viaje más corto hacia la capital donde pueden abastecerse de productos básicos de primera necesidad e incluso pueden garantizarse trabajo o educación, en esta ultima solo hay carreras universitarias que solo se estudian en la Habana, un claro ejemplo es la carrera Ciencia de Datos que solo está disponible en la región occidental. "
   ]
  },
  {
   "cell_type": "code",
   "execution_count": 559,
   "id": "d0d54859",
   "metadata": {},
   "outputs": [
    {
     "data": {
      "application/vnd.plotly.v1+json": {
       "config": {
        "plotlyServerURL": "https://plot.ly"
       },
       "data": [
        {
         "hovertemplate": "variable=Pinar del Rio<br>index=%{x}<br>value=%{y}<extra></extra>",
         "legendgroup": "Pinar del Rio",
         "line": {
          "color": "rgb(76,114,176)",
          "dash": "solid"
         },
         "marker": {
          "symbol": "circle"
         },
         "mode": "lines",
         "name": "Pinar del Rio",
         "orientation": "v",
         "showlegend": true,
         "type": "scatter",
         "x": [
          2006,
          2007,
          2008,
          2009,
          2010,
          2011,
          2012,
          2013,
          2014,
          2015,
          2016,
          2017,
          2018,
          2019,
          2020,
          2021,
          2022
         ],
         "xaxis": "x",
         "y": [
          114,
          132,
          70,
          55,
          84,
          67,
          66,
          54,
          41,
          82,
          90,
          44,
          67,
          51,
          23,
          24,
          35
         ],
         "yaxis": "y"
        },
        {
         "hovertemplate": "variable=La Habana<br>index=%{x}<br>value=%{y}<extra></extra>",
         "legendgroup": "La Habana",
         "line": {
          "color": "rgb(221,132,82)",
          "dash": "solid"
         },
         "marker": {
          "symbol": "circle"
         },
         "mode": "lines",
         "name": "La Habana",
         "orientation": "v",
         "showlegend": true,
         "type": "scatter",
         "x": [
          2006,
          2007,
          2008,
          2009,
          2010,
          2011,
          2012,
          2013,
          2014,
          2015,
          2016,
          2017,
          2018,
          2019,
          2020,
          2021,
          2022
         ],
         "xaxis": "x",
         "y": [
          1846,
          1595,
          1594,
          365,
          1436,
          1862,
          1931,
          1855,
          1454,
          2549,
          2692,
          477,
          2429,
          2379,
          1579,
          2312,
          3314
         ],
         "yaxis": "y"
        },
        {
         "hovertemplate": "variable=Ciudad de la Habana<br>index=%{x}<br>value=%{y}<extra></extra>",
         "legendgroup": "Ciudad de la Habana",
         "line": {
          "color": "rgb(85,168,104)",
          "dash": "solid"
         },
         "marker": {
          "symbol": "circle"
         },
         "mode": "lines",
         "name": "Ciudad de la Habana",
         "orientation": "v",
         "showlegend": true,
         "type": "scatter",
         "x": [
          2006,
          2007,
          2008,
          2009,
          2010,
          2011,
          2012,
          2013,
          2014,
          2015,
          2016,
          2017,
          2018,
          2019,
          2020,
          2021,
          2022
         ],
         "xaxis": "x",
         "y": [
          1266,
          1286,
          1684,
          399,
          1839,
          0,
          0,
          0,
          0,
          0,
          0,
          0,
          0,
          0,
          0,
          0,
          0
         ],
         "yaxis": "y"
        },
        {
         "hovertemplate": "variable=Matanzas<br>index=%{x}<br>value=%{y}<extra></extra>",
         "legendgroup": "Matanzas",
         "line": {
          "color": "rgb(196,78,82)",
          "dash": "solid"
         },
         "marker": {
          "symbol": "circle"
         },
         "mode": "lines",
         "name": "Matanzas",
         "orientation": "v",
         "showlegend": true,
         "type": "scatter",
         "x": [
          2006,
          2007,
          2008,
          2009,
          2010,
          2011,
          2012,
          2013,
          2014,
          2015,
          2016,
          2017,
          2018,
          2019,
          2020,
          2021,
          2022
         ],
         "xaxis": "x",
         "y": [
          827,
          844,
          795,
          290,
          776,
          877,
          1088,
          856,
          628,
          1102,
          1188,
          217,
          1007,
          1008,
          511,
          187,
          574
         ],
         "yaxis": "y"
        },
        {
         "hovertemplate": "variable=Villa Clara<br>index=%{x}<br>value=%{y}<extra></extra>",
         "legendgroup": "Villa Clara",
         "line": {
          "color": "rgb(129,114,179)",
          "dash": "solid"
         },
         "marker": {
          "symbol": "circle"
         },
         "mode": "lines",
         "name": "Villa Clara",
         "orientation": "v",
         "showlegend": true,
         "type": "scatter",
         "x": [
          2006,
          2007,
          2008,
          2009,
          2010,
          2011,
          2012,
          2013,
          2014,
          2015,
          2016,
          2017,
          2018,
          2019,
          2020,
          2021,
          2022
         ],
         "xaxis": "x",
         "y": [
          156,
          114,
          127,
          75,
          111,
          146,
          171,
          177,
          120,
          211,
          229,
          61,
          155,
          198,
          177,
          128,
          163
         ],
         "yaxis": "y"
        },
        {
         "hovertemplate": "variable=Cienfuegos<br>index=%{x}<br>value=%{y}<extra></extra>",
         "legendgroup": "Cienfuegos",
         "line": {
          "color": "rgb(147,120,96)",
          "dash": "solid"
         },
         "marker": {
          "symbol": "circle"
         },
         "mode": "lines",
         "name": "Cienfuegos",
         "orientation": "v",
         "showlegend": true,
         "type": "scatter",
         "x": [
          2006,
          2007,
          2008,
          2009,
          2010,
          2011,
          2012,
          2013,
          2014,
          2015,
          2016,
          2017,
          2018,
          2019,
          2020,
          2021,
          2022
         ],
         "xaxis": "x",
         "y": [
          171,
          154,
          163,
          72,
          164,
          153,
          124,
          139,
          84,
          142,
          204,
          31,
          130,
          146,
          120,
          71,
          130
         ],
         "yaxis": "y"
        },
        {
         "hovertemplate": "variable=Sancti Spiritus<br>index=%{x}<br>value=%{y}<extra></extra>",
         "legendgroup": "Sancti Spiritus",
         "line": {
          "color": "rgb(218,139,195)",
          "dash": "solid"
         },
         "marker": {
          "symbol": "circle"
         },
         "mode": "lines",
         "name": "Sancti Spiritus",
         "orientation": "v",
         "showlegend": true,
         "type": "scatter",
         "x": [
          2006,
          2007,
          2008,
          2009,
          2010,
          2011,
          2012,
          2013,
          2014,
          2015,
          2016,
          2017,
          2018,
          2019,
          2020,
          2021,
          2022
         ],
         "xaxis": "x",
         "y": [
          210,
          190,
          208,
          94,
          202,
          200,
          255,
          186,
          156,
          230,
          259,
          87,
          229,
          288,
          140,
          153,
          283
         ],
         "yaxis": "y"
        },
        {
         "hovertemplate": "variable=Ciego de Ávila<br>index=%{x}<br>value=%{y}<extra></extra>",
         "legendgroup": "Ciego de Ávila",
         "line": {
          "color": "rgb(140,140,140)",
          "dash": "solid"
         },
         "marker": {
          "symbol": "circle"
         },
         "mode": "lines",
         "name": "Ciego de Ávila",
         "orientation": "v",
         "showlegend": true,
         "type": "scatter",
         "x": [
          2006,
          2007,
          2008,
          2009,
          2010,
          2011,
          2012,
          2013,
          2014,
          2015,
          2016,
          2017,
          2018,
          2019,
          2020,
          2021,
          2022
         ],
         "xaxis": "x",
         "y": [
          500,
          415,
          501,
          251,
          471,
          469,
          542,
          547,
          438,
          671,
          704,
          174,
          424,
          593,
          331,
          120,
          432
         ],
         "yaxis": "y"
        },
        {
         "hovertemplate": "variable=Camagüey<br>index=%{x}<br>value=%{y}<extra></extra>",
         "legendgroup": "Camagüey",
         "line": {
          "color": "rgb(204,185,116)",
          "dash": "solid"
         },
         "marker": {
          "symbol": "circle"
         },
         "mode": "lines",
         "name": "Camagüey",
         "orientation": "v",
         "showlegend": true,
         "type": "scatter",
         "x": [
          2006,
          2007,
          2008,
          2009,
          2010,
          2011,
          2012,
          2013,
          2014,
          2015,
          2016,
          2017,
          2018,
          2019,
          2020,
          2021,
          2022
         ],
         "xaxis": "x",
         "y": [
          623,
          501,
          541,
          428,
          443,
          372,
          363,
          525,
          298,
          597,
          559,
          260,
          434,
          443,
          423,
          284,
          371
         ],
         "yaxis": "y"
        },
        {
         "hovertemplate": "variable=Las Tunas<br>index=%{x}<br>value=%{y}<extra></extra>",
         "legendgroup": "Las Tunas",
         "line": {
          "color": "rgb(100,181,205)",
          "dash": "solid"
         },
         "marker": {
          "symbol": "circle"
         },
         "mode": "lines",
         "name": "Las Tunas",
         "orientation": "v",
         "showlegend": true,
         "type": "scatter",
         "x": [
          2006,
          2007,
          2008,
          2009,
          2010,
          2011,
          2012,
          2013,
          2014,
          2015,
          2016,
          2017,
          2018,
          2019,
          2020,
          2021,
          2022
         ],
         "xaxis": "x",
         "y": [
          441,
          385,
          386,
          301,
          328,
          345,
          381,
          289,
          214,
          400,
          296,
          211,
          259,
          305,
          260,
          250,
          290
         ],
         "yaxis": "y"
        },
        {
         "hovertemplate": "variable=Holguín<br>index=%{x}<br>value=%{y}<extra></extra>",
         "legendgroup": "Holguín",
         "line": {
          "color": "rgb(76,114,176)",
          "dash": "solid"
         },
         "marker": {
          "symbol": "circle"
         },
         "mode": "lines",
         "name": "Holguín",
         "orientation": "v",
         "showlegend": true,
         "type": "scatter",
         "x": [
          2006,
          2007,
          2008,
          2009,
          2010,
          2011,
          2012,
          2013,
          2014,
          2015,
          2016,
          2017,
          2018,
          2019,
          2020,
          2021,
          2022
         ],
         "xaxis": "x",
         "y": [
          597,
          486,
          537,
          501,
          425,
          487,
          448,
          448,
          321,
          535,
          507,
          373,
          447,
          459,
          323,
          244,
          335
         ],
         "yaxis": "y"
        },
        {
         "hovertemplate": "variable=Santiago de Cuba<br>index=%{x}<br>value=%{y}<extra></extra>",
         "legendgroup": "Santiago de Cuba",
         "line": {
          "color": "rgb(221,132,82)",
          "dash": "solid"
         },
         "marker": {
          "symbol": "circle"
         },
         "mode": "lines",
         "name": "Santiago de Cuba",
         "orientation": "v",
         "showlegend": true,
         "type": "scatter",
         "x": [
          2006,
          2007,
          2008,
          2009,
          2010,
          2011,
          2012,
          2013,
          2014,
          2015,
          2016,
          2017,
          2018,
          2019,
          2020,
          2021,
          2022
         ],
         "xaxis": "x",
         "y": [
          650,
          499,
          593,
          824,
          481,
          488,
          467,
          301,
          349,
          530,
          577,
          467,
          473,
          518,
          360,
          216,
          537
         ],
         "yaxis": "y"
        },
        {
         "hovertemplate": "variable=Guantánamo<br>index=%{x}<br>value=%{y}<extra></extra>",
         "legendgroup": "Guantánamo",
         "line": {
          "color": "rgb(85,168,104)",
          "dash": "solid"
         },
         "marker": {
          "symbol": "circle"
         },
         "mode": "lines",
         "name": "Guantánamo",
         "orientation": "v",
         "showlegend": true,
         "type": "scatter",
         "x": [
          2006,
          2007,
          2008,
          2009,
          2010,
          2011,
          2012,
          2013,
          2014,
          2015,
          2016,
          2017,
          2018,
          2019,
          2020,
          2021,
          2022
         ],
         "xaxis": "x",
         "y": [
          110,
          100,
          142,
          204,
          116,
          96,
          87,
          89,
          62,
          104,
          109,
          136,
          66,
          103,
          53,
          35,
          72
         ],
         "yaxis": "y"
        },
        {
         "hovertemplate": "variable=Isla de La Juventud<br>index=%{x}<br>value=%{y}<extra></extra>",
         "legendgroup": "Isla de La Juventud",
         "line": {
          "color": "rgb(196,78,82)",
          "dash": "solid"
         },
         "marker": {
          "symbol": "circle"
         },
         "mode": "lines",
         "name": "Isla de La Juventud",
         "orientation": "v",
         "showlegend": true,
         "type": "scatter",
         "x": [
          2006,
          2007,
          2008,
          2009,
          2010,
          2011,
          2012,
          2013,
          2014,
          2015,
          2016,
          2017,
          2018,
          2019,
          2020,
          2021,
          2022
         ],
         "xaxis": "x",
         "y": [
          92,
          92,
          86,
          87,
          103,
          89,
          90,
          91,
          61,
          112,
          103,
          60,
          103,
          128,
          65,
          41,
          134
         ],
         "yaxis": "y"
        },
        {
         "hovertemplate": "variable=Mayabeque<br>index=%{x}<br>value=%{y}<extra></extra>",
         "legendgroup": "Mayabeque",
         "line": {
          "color": "rgb(129,114,179)",
          "dash": "solid"
         },
         "marker": {
          "symbol": "circle"
         },
         "mode": "lines",
         "name": "Mayabeque",
         "orientation": "v",
         "showlegend": true,
         "type": "scatter",
         "x": [
          2006,
          2007,
          2008,
          2009,
          2010,
          2011,
          2012,
          2013,
          2014,
          2015,
          2016,
          2017,
          2018,
          2019,
          2020,
          2021,
          2022
         ],
         "xaxis": "x",
         "y": [
          0,
          0,
          0,
          0,
          0,
          564,
          905,
          830,
          655,
          1149,
          1093,
          274,
          1102,
          1012,
          680,
          427,
          742
         ],
         "yaxis": "y"
        },
        {
         "hovertemplate": "variable=Artemisa<br>index=%{x}<br>value=%{y}<extra></extra>",
         "legendgroup": "Artemisa",
         "line": {
          "color": "rgb(147,120,96)",
          "dash": "solid"
         },
         "marker": {
          "symbol": "circle"
         },
         "mode": "lines",
         "name": "Artemisa",
         "orientation": "v",
         "showlegend": true,
         "type": "scatter",
         "x": [
          2006,
          2007,
          2008,
          2009,
          2010,
          2011,
          2012,
          2013,
          2014,
          2015,
          2016,
          2017,
          2018,
          2019,
          2020,
          2021,
          2022
         ],
         "xaxis": "x",
         "y": [
          0,
          0,
          0,
          0,
          0,
          760,
          707,
          698,
          506,
          969,
          1056,
          212,
          992,
          942,
          524,
          346,
          909
         ],
         "yaxis": "y"
        }
       ],
       "layout": {
        "legend": {
         "title": {
          "text": "variable"
         },
         "tracegroupgap": 0
        },
        "margin": {
         "t": 60
        },
        "template": {
         "data": {
          "bar": [
           {
            "error_x": {
             "color": "rgb(36,36,36)"
            },
            "error_y": {
             "color": "rgb(36,36,36)"
            },
            "marker": {
             "line": {
              "color": "rgb(234,234,242)",
              "width": 0.5
             },
             "pattern": {
              "fillmode": "overlay",
              "size": 10,
              "solidity": 0.2
             }
            },
            "type": "bar"
           }
          ],
          "barpolar": [
           {
            "marker": {
             "line": {
              "color": "rgb(234,234,242)",
              "width": 0.5
             },
             "pattern": {
              "fillmode": "overlay",
              "size": 10,
              "solidity": 0.2
             }
            },
            "type": "barpolar"
           }
          ],
          "carpet": [
           {
            "aaxis": {
             "endlinecolor": "rgb(36,36,36)",
             "gridcolor": "white",
             "linecolor": "white",
             "minorgridcolor": "white",
             "startlinecolor": "rgb(36,36,36)"
            },
            "baxis": {
             "endlinecolor": "rgb(36,36,36)",
             "gridcolor": "white",
             "linecolor": "white",
             "minorgridcolor": "white",
             "startlinecolor": "rgb(36,36,36)"
            },
            "type": "carpet"
           }
          ],
          "choropleth": [
           {
            "colorbar": {
             "outlinewidth": 0,
             "tickcolor": "rgb(36,36,36)",
             "ticklen": 8,
             "ticks": "outside",
             "tickwidth": 2
            },
            "type": "choropleth"
           }
          ],
          "contour": [
           {
            "colorbar": {
             "outlinewidth": 0,
             "tickcolor": "rgb(36,36,36)",
             "ticklen": 8,
             "ticks": "outside",
             "tickwidth": 2
            },
            "colorscale": [
             [
              0,
              "rgb(2,4,25)"
             ],
             [
              0.06274509803921569,
              "rgb(24,15,41)"
             ],
             [
              0.12549019607843137,
              "rgb(47,23,57)"
             ],
             [
              0.18823529411764706,
              "rgb(71,28,72)"
             ],
             [
              0.25098039215686274,
              "rgb(97,30,82)"
             ],
             [
              0.3137254901960784,
              "rgb(123,30,89)"
             ],
             [
              0.3764705882352941,
              "rgb(150,27,91)"
             ],
             [
              0.4392156862745098,
              "rgb(177,22,88)"
             ],
             [
              0.5019607843137255,
              "rgb(203,26,79)"
             ],
             [
              0.5647058823529412,
              "rgb(223,47,67)"
             ],
             [
              0.6274509803921569,
              "rgb(236,76,61)"
             ],
             [
              0.6901960784313725,
              "rgb(242,107,73)"
             ],
             [
              0.7529411764705882,
              "rgb(244,135,95)"
             ],
             [
              0.8156862745098039,
              "rgb(245,162,122)"
             ],
             [
              0.8784313725490196,
              "rgb(246,188,153)"
             ],
             [
              0.9411764705882353,
              "rgb(247,212,187)"
             ],
             [
              1,
              "rgb(250,234,220)"
             ]
            ],
            "type": "contour"
           }
          ],
          "contourcarpet": [
           {
            "colorbar": {
             "outlinewidth": 0,
             "tickcolor": "rgb(36,36,36)",
             "ticklen": 8,
             "ticks": "outside",
             "tickwidth": 2
            },
            "type": "contourcarpet"
           }
          ],
          "heatmap": [
           {
            "colorbar": {
             "outlinewidth": 0,
             "tickcolor": "rgb(36,36,36)",
             "ticklen": 8,
             "ticks": "outside",
             "tickwidth": 2
            },
            "colorscale": [
             [
              0,
              "rgb(2,4,25)"
             ],
             [
              0.06274509803921569,
              "rgb(24,15,41)"
             ],
             [
              0.12549019607843137,
              "rgb(47,23,57)"
             ],
             [
              0.18823529411764706,
              "rgb(71,28,72)"
             ],
             [
              0.25098039215686274,
              "rgb(97,30,82)"
             ],
             [
              0.3137254901960784,
              "rgb(123,30,89)"
             ],
             [
              0.3764705882352941,
              "rgb(150,27,91)"
             ],
             [
              0.4392156862745098,
              "rgb(177,22,88)"
             ],
             [
              0.5019607843137255,
              "rgb(203,26,79)"
             ],
             [
              0.5647058823529412,
              "rgb(223,47,67)"
             ],
             [
              0.6274509803921569,
              "rgb(236,76,61)"
             ],
             [
              0.6901960784313725,
              "rgb(242,107,73)"
             ],
             [
              0.7529411764705882,
              "rgb(244,135,95)"
             ],
             [
              0.8156862745098039,
              "rgb(245,162,122)"
             ],
             [
              0.8784313725490196,
              "rgb(246,188,153)"
             ],
             [
              0.9411764705882353,
              "rgb(247,212,187)"
             ],
             [
              1,
              "rgb(250,234,220)"
             ]
            ],
            "type": "heatmap"
           }
          ],
          "heatmapgl": [
           {
            "colorbar": {
             "outlinewidth": 0,
             "tickcolor": "rgb(36,36,36)",
             "ticklen": 8,
             "ticks": "outside",
             "tickwidth": 2
            },
            "colorscale": [
             [
              0,
              "rgb(2,4,25)"
             ],
             [
              0.06274509803921569,
              "rgb(24,15,41)"
             ],
             [
              0.12549019607843137,
              "rgb(47,23,57)"
             ],
             [
              0.18823529411764706,
              "rgb(71,28,72)"
             ],
             [
              0.25098039215686274,
              "rgb(97,30,82)"
             ],
             [
              0.3137254901960784,
              "rgb(123,30,89)"
             ],
             [
              0.3764705882352941,
              "rgb(150,27,91)"
             ],
             [
              0.4392156862745098,
              "rgb(177,22,88)"
             ],
             [
              0.5019607843137255,
              "rgb(203,26,79)"
             ],
             [
              0.5647058823529412,
              "rgb(223,47,67)"
             ],
             [
              0.6274509803921569,
              "rgb(236,76,61)"
             ],
             [
              0.6901960784313725,
              "rgb(242,107,73)"
             ],
             [
              0.7529411764705882,
              "rgb(244,135,95)"
             ],
             [
              0.8156862745098039,
              "rgb(245,162,122)"
             ],
             [
              0.8784313725490196,
              "rgb(246,188,153)"
             ],
             [
              0.9411764705882353,
              "rgb(247,212,187)"
             ],
             [
              1,
              "rgb(250,234,220)"
             ]
            ],
            "type": "heatmapgl"
           }
          ],
          "histogram": [
           {
            "marker": {
             "pattern": {
              "fillmode": "overlay",
              "size": 10,
              "solidity": 0.2
             }
            },
            "type": "histogram"
           }
          ],
          "histogram2d": [
           {
            "colorbar": {
             "outlinewidth": 0,
             "tickcolor": "rgb(36,36,36)",
             "ticklen": 8,
             "ticks": "outside",
             "tickwidth": 2
            },
            "colorscale": [
             [
              0,
              "rgb(2,4,25)"
             ],
             [
              0.06274509803921569,
              "rgb(24,15,41)"
             ],
             [
              0.12549019607843137,
              "rgb(47,23,57)"
             ],
             [
              0.18823529411764706,
              "rgb(71,28,72)"
             ],
             [
              0.25098039215686274,
              "rgb(97,30,82)"
             ],
             [
              0.3137254901960784,
              "rgb(123,30,89)"
             ],
             [
              0.3764705882352941,
              "rgb(150,27,91)"
             ],
             [
              0.4392156862745098,
              "rgb(177,22,88)"
             ],
             [
              0.5019607843137255,
              "rgb(203,26,79)"
             ],
             [
              0.5647058823529412,
              "rgb(223,47,67)"
             ],
             [
              0.6274509803921569,
              "rgb(236,76,61)"
             ],
             [
              0.6901960784313725,
              "rgb(242,107,73)"
             ],
             [
              0.7529411764705882,
              "rgb(244,135,95)"
             ],
             [
              0.8156862745098039,
              "rgb(245,162,122)"
             ],
             [
              0.8784313725490196,
              "rgb(246,188,153)"
             ],
             [
              0.9411764705882353,
              "rgb(247,212,187)"
             ],
             [
              1,
              "rgb(250,234,220)"
             ]
            ],
            "type": "histogram2d"
           }
          ],
          "histogram2dcontour": [
           {
            "colorbar": {
             "outlinewidth": 0,
             "tickcolor": "rgb(36,36,36)",
             "ticklen": 8,
             "ticks": "outside",
             "tickwidth": 2
            },
            "colorscale": [
             [
              0,
              "rgb(2,4,25)"
             ],
             [
              0.06274509803921569,
              "rgb(24,15,41)"
             ],
             [
              0.12549019607843137,
              "rgb(47,23,57)"
             ],
             [
              0.18823529411764706,
              "rgb(71,28,72)"
             ],
             [
              0.25098039215686274,
              "rgb(97,30,82)"
             ],
             [
              0.3137254901960784,
              "rgb(123,30,89)"
             ],
             [
              0.3764705882352941,
              "rgb(150,27,91)"
             ],
             [
              0.4392156862745098,
              "rgb(177,22,88)"
             ],
             [
              0.5019607843137255,
              "rgb(203,26,79)"
             ],
             [
              0.5647058823529412,
              "rgb(223,47,67)"
             ],
             [
              0.6274509803921569,
              "rgb(236,76,61)"
             ],
             [
              0.6901960784313725,
              "rgb(242,107,73)"
             ],
             [
              0.7529411764705882,
              "rgb(244,135,95)"
             ],
             [
              0.8156862745098039,
              "rgb(245,162,122)"
             ],
             [
              0.8784313725490196,
              "rgb(246,188,153)"
             ],
             [
              0.9411764705882353,
              "rgb(247,212,187)"
             ],
             [
              1,
              "rgb(250,234,220)"
             ]
            ],
            "type": "histogram2dcontour"
           }
          ],
          "mesh3d": [
           {
            "colorbar": {
             "outlinewidth": 0,
             "tickcolor": "rgb(36,36,36)",
             "ticklen": 8,
             "ticks": "outside",
             "tickwidth": 2
            },
            "type": "mesh3d"
           }
          ],
          "parcoords": [
           {
            "line": {
             "colorbar": {
              "outlinewidth": 0,
              "tickcolor": "rgb(36,36,36)",
              "ticklen": 8,
              "ticks": "outside",
              "tickwidth": 2
             }
            },
            "type": "parcoords"
           }
          ],
          "pie": [
           {
            "automargin": true,
            "type": "pie"
           }
          ],
          "scatter": [
           {
            "fillpattern": {
             "fillmode": "overlay",
             "size": 10,
             "solidity": 0.2
            },
            "type": "scatter"
           }
          ],
          "scatter3d": [
           {
            "line": {
             "colorbar": {
              "outlinewidth": 0,
              "tickcolor": "rgb(36,36,36)",
              "ticklen": 8,
              "ticks": "outside",
              "tickwidth": 2
             }
            },
            "marker": {
             "colorbar": {
              "outlinewidth": 0,
              "tickcolor": "rgb(36,36,36)",
              "ticklen": 8,
              "ticks": "outside",
              "tickwidth": 2
             }
            },
            "type": "scatter3d"
           }
          ],
          "scattercarpet": [
           {
            "marker": {
             "colorbar": {
              "outlinewidth": 0,
              "tickcolor": "rgb(36,36,36)",
              "ticklen": 8,
              "ticks": "outside",
              "tickwidth": 2
             }
            },
            "type": "scattercarpet"
           }
          ],
          "scattergeo": [
           {
            "marker": {
             "colorbar": {
              "outlinewidth": 0,
              "tickcolor": "rgb(36,36,36)",
              "ticklen": 8,
              "ticks": "outside",
              "tickwidth": 2
             }
            },
            "type": "scattergeo"
           }
          ],
          "scattergl": [
           {
            "marker": {
             "colorbar": {
              "outlinewidth": 0,
              "tickcolor": "rgb(36,36,36)",
              "ticklen": 8,
              "ticks": "outside",
              "tickwidth": 2
             }
            },
            "type": "scattergl"
           }
          ],
          "scattermapbox": [
           {
            "marker": {
             "colorbar": {
              "outlinewidth": 0,
              "tickcolor": "rgb(36,36,36)",
              "ticklen": 8,
              "ticks": "outside",
              "tickwidth": 2
             }
            },
            "type": "scattermapbox"
           }
          ],
          "scatterpolar": [
           {
            "marker": {
             "colorbar": {
              "outlinewidth": 0,
              "tickcolor": "rgb(36,36,36)",
              "ticklen": 8,
              "ticks": "outside",
              "tickwidth": 2
             }
            },
            "type": "scatterpolar"
           }
          ],
          "scatterpolargl": [
           {
            "marker": {
             "colorbar": {
              "outlinewidth": 0,
              "tickcolor": "rgb(36,36,36)",
              "ticklen": 8,
              "ticks": "outside",
              "tickwidth": 2
             }
            },
            "type": "scatterpolargl"
           }
          ],
          "scatterternary": [
           {
            "marker": {
             "colorbar": {
              "outlinewidth": 0,
              "tickcolor": "rgb(36,36,36)",
              "ticklen": 8,
              "ticks": "outside",
              "tickwidth": 2
             }
            },
            "type": "scatterternary"
           }
          ],
          "surface": [
           {
            "colorbar": {
             "outlinewidth": 0,
             "tickcolor": "rgb(36,36,36)",
             "ticklen": 8,
             "ticks": "outside",
             "tickwidth": 2
            },
            "colorscale": [
             [
              0,
              "rgb(2,4,25)"
             ],
             [
              0.06274509803921569,
              "rgb(24,15,41)"
             ],
             [
              0.12549019607843137,
              "rgb(47,23,57)"
             ],
             [
              0.18823529411764706,
              "rgb(71,28,72)"
             ],
             [
              0.25098039215686274,
              "rgb(97,30,82)"
             ],
             [
              0.3137254901960784,
              "rgb(123,30,89)"
             ],
             [
              0.3764705882352941,
              "rgb(150,27,91)"
             ],
             [
              0.4392156862745098,
              "rgb(177,22,88)"
             ],
             [
              0.5019607843137255,
              "rgb(203,26,79)"
             ],
             [
              0.5647058823529412,
              "rgb(223,47,67)"
             ],
             [
              0.6274509803921569,
              "rgb(236,76,61)"
             ],
             [
              0.6901960784313725,
              "rgb(242,107,73)"
             ],
             [
              0.7529411764705882,
              "rgb(244,135,95)"
             ],
             [
              0.8156862745098039,
              "rgb(245,162,122)"
             ],
             [
              0.8784313725490196,
              "rgb(246,188,153)"
             ],
             [
              0.9411764705882353,
              "rgb(247,212,187)"
             ],
             [
              1,
              "rgb(250,234,220)"
             ]
            ],
            "type": "surface"
           }
          ],
          "table": [
           {
            "cells": {
             "fill": {
              "color": "rgb(231,231,240)"
             },
             "line": {
              "color": "white"
             }
            },
            "header": {
             "fill": {
              "color": "rgb(183,183,191)"
             },
             "line": {
              "color": "white"
             }
            },
            "type": "table"
           }
          ]
         },
         "layout": {
          "annotationdefaults": {
           "arrowcolor": "rgb(67,103,167)"
          },
          "autotypenumbers": "strict",
          "coloraxis": {
           "colorbar": {
            "outlinewidth": 0,
            "tickcolor": "rgb(36,36,36)",
            "ticklen": 8,
            "ticks": "outside",
            "tickwidth": 2
           }
          },
          "colorscale": {
           "sequential": [
            [
             0,
             "rgb(2,4,25)"
            ],
            [
             0.06274509803921569,
             "rgb(24,15,41)"
            ],
            [
             0.12549019607843137,
             "rgb(47,23,57)"
            ],
            [
             0.18823529411764706,
             "rgb(71,28,72)"
            ],
            [
             0.25098039215686274,
             "rgb(97,30,82)"
            ],
            [
             0.3137254901960784,
             "rgb(123,30,89)"
            ],
            [
             0.3764705882352941,
             "rgb(150,27,91)"
            ],
            [
             0.4392156862745098,
             "rgb(177,22,88)"
            ],
            [
             0.5019607843137255,
             "rgb(203,26,79)"
            ],
            [
             0.5647058823529412,
             "rgb(223,47,67)"
            ],
            [
             0.6274509803921569,
             "rgb(236,76,61)"
            ],
            [
             0.6901960784313725,
             "rgb(242,107,73)"
            ],
            [
             0.7529411764705882,
             "rgb(244,135,95)"
            ],
            [
             0.8156862745098039,
             "rgb(245,162,122)"
            ],
            [
             0.8784313725490196,
             "rgb(246,188,153)"
            ],
            [
             0.9411764705882353,
             "rgb(247,212,187)"
            ],
            [
             1,
             "rgb(250,234,220)"
            ]
           ],
           "sequentialminus": [
            [
             0,
             "rgb(2,4,25)"
            ],
            [
             0.06274509803921569,
             "rgb(24,15,41)"
            ],
            [
             0.12549019607843137,
             "rgb(47,23,57)"
            ],
            [
             0.18823529411764706,
             "rgb(71,28,72)"
            ],
            [
             0.25098039215686274,
             "rgb(97,30,82)"
            ],
            [
             0.3137254901960784,
             "rgb(123,30,89)"
            ],
            [
             0.3764705882352941,
             "rgb(150,27,91)"
            ],
            [
             0.4392156862745098,
             "rgb(177,22,88)"
            ],
            [
             0.5019607843137255,
             "rgb(203,26,79)"
            ],
            [
             0.5647058823529412,
             "rgb(223,47,67)"
            ],
            [
             0.6274509803921569,
             "rgb(236,76,61)"
            ],
            [
             0.6901960784313725,
             "rgb(242,107,73)"
            ],
            [
             0.7529411764705882,
             "rgb(244,135,95)"
            ],
            [
             0.8156862745098039,
             "rgb(245,162,122)"
            ],
            [
             0.8784313725490196,
             "rgb(246,188,153)"
            ],
            [
             0.9411764705882353,
             "rgb(247,212,187)"
            ],
            [
             1,
             "rgb(250,234,220)"
            ]
           ]
          },
          "colorway": [
           "rgb(76,114,176)",
           "rgb(221,132,82)",
           "rgb(85,168,104)",
           "rgb(196,78,82)",
           "rgb(129,114,179)",
           "rgb(147,120,96)",
           "rgb(218,139,195)",
           "rgb(140,140,140)",
           "rgb(204,185,116)",
           "rgb(100,181,205)"
          ],
          "font": {
           "color": "rgb(36,36,36)"
          },
          "geo": {
           "bgcolor": "white",
           "lakecolor": "white",
           "landcolor": "rgb(234,234,242)",
           "showlakes": true,
           "showland": true,
           "subunitcolor": "white"
          },
          "hoverlabel": {
           "align": "left"
          },
          "hovermode": "closest",
          "paper_bgcolor": "white",
          "plot_bgcolor": "rgb(234,234,242)",
          "polar": {
           "angularaxis": {
            "gridcolor": "white",
            "linecolor": "white",
            "showgrid": true,
            "ticks": ""
           },
           "bgcolor": "rgb(234,234,242)",
           "radialaxis": {
            "gridcolor": "white",
            "linecolor": "white",
            "showgrid": true,
            "ticks": ""
           }
          },
          "scene": {
           "xaxis": {
            "backgroundcolor": "rgb(234,234,242)",
            "gridcolor": "white",
            "gridwidth": 2,
            "linecolor": "white",
            "showbackground": true,
            "showgrid": true,
            "ticks": "",
            "zerolinecolor": "white"
           },
           "yaxis": {
            "backgroundcolor": "rgb(234,234,242)",
            "gridcolor": "white",
            "gridwidth": 2,
            "linecolor": "white",
            "showbackground": true,
            "showgrid": true,
            "ticks": "",
            "zerolinecolor": "white"
           },
           "zaxis": {
            "backgroundcolor": "rgb(234,234,242)",
            "gridcolor": "white",
            "gridwidth": 2,
            "linecolor": "white",
            "showbackground": true,
            "showgrid": true,
            "ticks": "",
            "zerolinecolor": "white"
           }
          },
          "shapedefaults": {
           "fillcolor": "rgb(67,103,167)",
           "line": {
            "width": 0
           },
           "opacity": 0.5
          },
          "ternary": {
           "aaxis": {
            "gridcolor": "white",
            "linecolor": "white",
            "showgrid": true,
            "ticks": ""
           },
           "baxis": {
            "gridcolor": "white",
            "linecolor": "white",
            "showgrid": true,
            "ticks": ""
           },
           "bgcolor": "rgb(234,234,242)",
           "caxis": {
            "gridcolor": "white",
            "linecolor": "white",
            "showgrid": true,
            "ticks": ""
           }
          },
          "xaxis": {
           "automargin": true,
           "gridcolor": "white",
           "linecolor": "white",
           "showgrid": true,
           "ticks": "",
           "title": {
            "standoff": 15
           },
           "zerolinecolor": "white"
          },
          "yaxis": {
           "automargin": true,
           "gridcolor": "white",
           "linecolor": "white",
           "showgrid": true,
           "ticks": "",
           "title": {
            "standoff": 15
           },
           "zerolinecolor": "white"
          }
         }
        },
        "xaxis": {
         "anchor": "y",
         "domain": [
          0,
          1
         ],
         "title": {
          "text": "Años"
         }
        },
        "yaxis": {
         "anchor": "x",
         "domain": [
          0,
          1
         ],
         "title": {
          "text": "Cantidad de emigrantes"
         }
        }
       }
      },
      "text/html": [
       "<div>                            <div id=\"7a8d9830-3fb5-45e1-b433-ab7c6771c004\" class=\"plotly-graph-div\" style=\"height:525px; width:100%;\"></div>            <script type=\"text/javascript\">                require([\"plotly\"], function(Plotly) {                    window.PLOTLYENV=window.PLOTLYENV || {};                                    if (document.getElementById(\"7a8d9830-3fb5-45e1-b433-ab7c6771c004\")) {                    Plotly.newPlot(                        \"7a8d9830-3fb5-45e1-b433-ab7c6771c004\",                        [{\"hovertemplate\":\"variable=Pinar del Rio<br>index=%{x}<br>value=%{y}<extra></extra>\",\"legendgroup\":\"Pinar del Rio\",\"line\":{\"color\":\"rgb(76,114,176)\",\"dash\":\"solid\"},\"marker\":{\"symbol\":\"circle\"},\"mode\":\"lines\",\"name\":\"Pinar del Rio\",\"orientation\":\"v\",\"showlegend\":true,\"x\":[2006,2007,2008,2009,2010,2011,2012,2013,2014,2015,2016,2017,2018,2019,2020,2021,2022],\"xaxis\":\"x\",\"y\":[114,132,70,55,84,67,66,54,41,82,90,44,67,51,23,24,35],\"yaxis\":\"y\",\"type\":\"scatter\"},{\"hovertemplate\":\"variable=La Habana<br>index=%{x}<br>value=%{y}<extra></extra>\",\"legendgroup\":\"La Habana\",\"line\":{\"color\":\"rgb(221,132,82)\",\"dash\":\"solid\"},\"marker\":{\"symbol\":\"circle\"},\"mode\":\"lines\",\"name\":\"La Habana\",\"orientation\":\"v\",\"showlegend\":true,\"x\":[2006,2007,2008,2009,2010,2011,2012,2013,2014,2015,2016,2017,2018,2019,2020,2021,2022],\"xaxis\":\"x\",\"y\":[1846,1595,1594,365,1436,1862,1931,1855,1454,2549,2692,477,2429,2379,1579,2312,3314],\"yaxis\":\"y\",\"type\":\"scatter\"},{\"hovertemplate\":\"variable=Ciudad de la Habana<br>index=%{x}<br>value=%{y}<extra></extra>\",\"legendgroup\":\"Ciudad de la Habana\",\"line\":{\"color\":\"rgb(85,168,104)\",\"dash\":\"solid\"},\"marker\":{\"symbol\":\"circle\"},\"mode\":\"lines\",\"name\":\"Ciudad de la Habana\",\"orientation\":\"v\",\"showlegend\":true,\"x\":[2006,2007,2008,2009,2010,2011,2012,2013,2014,2015,2016,2017,2018,2019,2020,2021,2022],\"xaxis\":\"x\",\"y\":[1266,1286,1684,399,1839,0,0,0,0,0,0,0,0,0,0,0,0],\"yaxis\":\"y\",\"type\":\"scatter\"},{\"hovertemplate\":\"variable=Matanzas<br>index=%{x}<br>value=%{y}<extra></extra>\",\"legendgroup\":\"Matanzas\",\"line\":{\"color\":\"rgb(196,78,82)\",\"dash\":\"solid\"},\"marker\":{\"symbol\":\"circle\"},\"mode\":\"lines\",\"name\":\"Matanzas\",\"orientation\":\"v\",\"showlegend\":true,\"x\":[2006,2007,2008,2009,2010,2011,2012,2013,2014,2015,2016,2017,2018,2019,2020,2021,2022],\"xaxis\":\"x\",\"y\":[827,844,795,290,776,877,1088,856,628,1102,1188,217,1007,1008,511,187,574],\"yaxis\":\"y\",\"type\":\"scatter\"},{\"hovertemplate\":\"variable=Villa Clara<br>index=%{x}<br>value=%{y}<extra></extra>\",\"legendgroup\":\"Villa Clara\",\"line\":{\"color\":\"rgb(129,114,179)\",\"dash\":\"solid\"},\"marker\":{\"symbol\":\"circle\"},\"mode\":\"lines\",\"name\":\"Villa Clara\",\"orientation\":\"v\",\"showlegend\":true,\"x\":[2006,2007,2008,2009,2010,2011,2012,2013,2014,2015,2016,2017,2018,2019,2020,2021,2022],\"xaxis\":\"x\",\"y\":[156,114,127,75,111,146,171,177,120,211,229,61,155,198,177,128,163],\"yaxis\":\"y\",\"type\":\"scatter\"},{\"hovertemplate\":\"variable=Cienfuegos<br>index=%{x}<br>value=%{y}<extra></extra>\",\"legendgroup\":\"Cienfuegos\",\"line\":{\"color\":\"rgb(147,120,96)\",\"dash\":\"solid\"},\"marker\":{\"symbol\":\"circle\"},\"mode\":\"lines\",\"name\":\"Cienfuegos\",\"orientation\":\"v\",\"showlegend\":true,\"x\":[2006,2007,2008,2009,2010,2011,2012,2013,2014,2015,2016,2017,2018,2019,2020,2021,2022],\"xaxis\":\"x\",\"y\":[171,154,163,72,164,153,124,139,84,142,204,31,130,146,120,71,130],\"yaxis\":\"y\",\"type\":\"scatter\"},{\"hovertemplate\":\"variable=Sancti Spiritus<br>index=%{x}<br>value=%{y}<extra></extra>\",\"legendgroup\":\"Sancti Spiritus\",\"line\":{\"color\":\"rgb(218,139,195)\",\"dash\":\"solid\"},\"marker\":{\"symbol\":\"circle\"},\"mode\":\"lines\",\"name\":\"Sancti Spiritus\",\"orientation\":\"v\",\"showlegend\":true,\"x\":[2006,2007,2008,2009,2010,2011,2012,2013,2014,2015,2016,2017,2018,2019,2020,2021,2022],\"xaxis\":\"x\",\"y\":[210,190,208,94,202,200,255,186,156,230,259,87,229,288,140,153,283],\"yaxis\":\"y\",\"type\":\"scatter\"},{\"hovertemplate\":\"variable=Ciego de \\u00c1vila<br>index=%{x}<br>value=%{y}<extra></extra>\",\"legendgroup\":\"Ciego de \\u00c1vila\",\"line\":{\"color\":\"rgb(140,140,140)\",\"dash\":\"solid\"},\"marker\":{\"symbol\":\"circle\"},\"mode\":\"lines\",\"name\":\"Ciego de \\u00c1vila\",\"orientation\":\"v\",\"showlegend\":true,\"x\":[2006,2007,2008,2009,2010,2011,2012,2013,2014,2015,2016,2017,2018,2019,2020,2021,2022],\"xaxis\":\"x\",\"y\":[500,415,501,251,471,469,542,547,438,671,704,174,424,593,331,120,432],\"yaxis\":\"y\",\"type\":\"scatter\"},{\"hovertemplate\":\"variable=Camag\\u00fcey<br>index=%{x}<br>value=%{y}<extra></extra>\",\"legendgroup\":\"Camag\\u00fcey\",\"line\":{\"color\":\"rgb(204,185,116)\",\"dash\":\"solid\"},\"marker\":{\"symbol\":\"circle\"},\"mode\":\"lines\",\"name\":\"Camag\\u00fcey\",\"orientation\":\"v\",\"showlegend\":true,\"x\":[2006,2007,2008,2009,2010,2011,2012,2013,2014,2015,2016,2017,2018,2019,2020,2021,2022],\"xaxis\":\"x\",\"y\":[623,501,541,428,443,372,363,525,298,597,559,260,434,443,423,284,371],\"yaxis\":\"y\",\"type\":\"scatter\"},{\"hovertemplate\":\"variable=Las Tunas<br>index=%{x}<br>value=%{y}<extra></extra>\",\"legendgroup\":\"Las Tunas\",\"line\":{\"color\":\"rgb(100,181,205)\",\"dash\":\"solid\"},\"marker\":{\"symbol\":\"circle\"},\"mode\":\"lines\",\"name\":\"Las Tunas\",\"orientation\":\"v\",\"showlegend\":true,\"x\":[2006,2007,2008,2009,2010,2011,2012,2013,2014,2015,2016,2017,2018,2019,2020,2021,2022],\"xaxis\":\"x\",\"y\":[441,385,386,301,328,345,381,289,214,400,296,211,259,305,260,250,290],\"yaxis\":\"y\",\"type\":\"scatter\"},{\"hovertemplate\":\"variable=Holgu\\u00edn<br>index=%{x}<br>value=%{y}<extra></extra>\",\"legendgroup\":\"Holgu\\u00edn\",\"line\":{\"color\":\"rgb(76,114,176)\",\"dash\":\"solid\"},\"marker\":{\"symbol\":\"circle\"},\"mode\":\"lines\",\"name\":\"Holgu\\u00edn\",\"orientation\":\"v\",\"showlegend\":true,\"x\":[2006,2007,2008,2009,2010,2011,2012,2013,2014,2015,2016,2017,2018,2019,2020,2021,2022],\"xaxis\":\"x\",\"y\":[597,486,537,501,425,487,448,448,321,535,507,373,447,459,323,244,335],\"yaxis\":\"y\",\"type\":\"scatter\"},{\"hovertemplate\":\"variable=Santiago de Cuba<br>index=%{x}<br>value=%{y}<extra></extra>\",\"legendgroup\":\"Santiago de Cuba\",\"line\":{\"color\":\"rgb(221,132,82)\",\"dash\":\"solid\"},\"marker\":{\"symbol\":\"circle\"},\"mode\":\"lines\",\"name\":\"Santiago de Cuba\",\"orientation\":\"v\",\"showlegend\":true,\"x\":[2006,2007,2008,2009,2010,2011,2012,2013,2014,2015,2016,2017,2018,2019,2020,2021,2022],\"xaxis\":\"x\",\"y\":[650,499,593,824,481,488,467,301,349,530,577,467,473,518,360,216,537],\"yaxis\":\"y\",\"type\":\"scatter\"},{\"hovertemplate\":\"variable=Guant\\u00e1namo<br>index=%{x}<br>value=%{y}<extra></extra>\",\"legendgroup\":\"Guant\\u00e1namo\",\"line\":{\"color\":\"rgb(85,168,104)\",\"dash\":\"solid\"},\"marker\":{\"symbol\":\"circle\"},\"mode\":\"lines\",\"name\":\"Guant\\u00e1namo\",\"orientation\":\"v\",\"showlegend\":true,\"x\":[2006,2007,2008,2009,2010,2011,2012,2013,2014,2015,2016,2017,2018,2019,2020,2021,2022],\"xaxis\":\"x\",\"y\":[110,100,142,204,116,96,87,89,62,104,109,136,66,103,53,35,72],\"yaxis\":\"y\",\"type\":\"scatter\"},{\"hovertemplate\":\"variable=Isla de La Juventud<br>index=%{x}<br>value=%{y}<extra></extra>\",\"legendgroup\":\"Isla de La Juventud\",\"line\":{\"color\":\"rgb(196,78,82)\",\"dash\":\"solid\"},\"marker\":{\"symbol\":\"circle\"},\"mode\":\"lines\",\"name\":\"Isla de La Juventud\",\"orientation\":\"v\",\"showlegend\":true,\"x\":[2006,2007,2008,2009,2010,2011,2012,2013,2014,2015,2016,2017,2018,2019,2020,2021,2022],\"xaxis\":\"x\",\"y\":[92,92,86,87,103,89,90,91,61,112,103,60,103,128,65,41,134],\"yaxis\":\"y\",\"type\":\"scatter\"},{\"hovertemplate\":\"variable=Mayabeque<br>index=%{x}<br>value=%{y}<extra></extra>\",\"legendgroup\":\"Mayabeque\",\"line\":{\"color\":\"rgb(129,114,179)\",\"dash\":\"solid\"},\"marker\":{\"symbol\":\"circle\"},\"mode\":\"lines\",\"name\":\"Mayabeque\",\"orientation\":\"v\",\"showlegend\":true,\"x\":[2006,2007,2008,2009,2010,2011,2012,2013,2014,2015,2016,2017,2018,2019,2020,2021,2022],\"xaxis\":\"x\",\"y\":[0,0,0,0,0,564,905,830,655,1149,1093,274,1102,1012,680,427,742],\"yaxis\":\"y\",\"type\":\"scatter\"},{\"hovertemplate\":\"variable=Artemisa<br>index=%{x}<br>value=%{y}<extra></extra>\",\"legendgroup\":\"Artemisa\",\"line\":{\"color\":\"rgb(147,120,96)\",\"dash\":\"solid\"},\"marker\":{\"symbol\":\"circle\"},\"mode\":\"lines\",\"name\":\"Artemisa\",\"orientation\":\"v\",\"showlegend\":true,\"x\":[2006,2007,2008,2009,2010,2011,2012,2013,2014,2015,2016,2017,2018,2019,2020,2021,2022],\"xaxis\":\"x\",\"y\":[0,0,0,0,0,760,707,698,506,969,1056,212,992,942,524,346,909],\"yaxis\":\"y\",\"type\":\"scatter\"}],                        {\"template\":{\"data\":{\"barpolar\":[{\"marker\":{\"line\":{\"color\":\"rgb(234,234,242)\",\"width\":0.5},\"pattern\":{\"fillmode\":\"overlay\",\"size\":10,\"solidity\":0.2}},\"type\":\"barpolar\"}],\"bar\":[{\"error_x\":{\"color\":\"rgb(36,36,36)\"},\"error_y\":{\"color\":\"rgb(36,36,36)\"},\"marker\":{\"line\":{\"color\":\"rgb(234,234,242)\",\"width\":0.5},\"pattern\":{\"fillmode\":\"overlay\",\"size\":10,\"solidity\":0.2}},\"type\":\"bar\"}],\"carpet\":[{\"aaxis\":{\"endlinecolor\":\"rgb(36,36,36)\",\"gridcolor\":\"white\",\"linecolor\":\"white\",\"minorgridcolor\":\"white\",\"startlinecolor\":\"rgb(36,36,36)\"},\"baxis\":{\"endlinecolor\":\"rgb(36,36,36)\",\"gridcolor\":\"white\",\"linecolor\":\"white\",\"minorgridcolor\":\"white\",\"startlinecolor\":\"rgb(36,36,36)\"},\"type\":\"carpet\"}],\"choropleth\":[{\"colorbar\":{\"outlinewidth\":0,\"tickcolor\":\"rgb(36,36,36)\",\"ticklen\":8,\"ticks\":\"outside\",\"tickwidth\":2},\"type\":\"choropleth\"}],\"contourcarpet\":[{\"colorbar\":{\"outlinewidth\":0,\"tickcolor\":\"rgb(36,36,36)\",\"ticklen\":8,\"ticks\":\"outside\",\"tickwidth\":2},\"type\":\"contourcarpet\"}],\"contour\":[{\"colorbar\":{\"outlinewidth\":0,\"tickcolor\":\"rgb(36,36,36)\",\"ticklen\":8,\"ticks\":\"outside\",\"tickwidth\":2},\"colorscale\":[[0.0,\"rgb(2,4,25)\"],[0.06274509803921569,\"rgb(24,15,41)\"],[0.12549019607843137,\"rgb(47,23,57)\"],[0.18823529411764706,\"rgb(71,28,72)\"],[0.25098039215686274,\"rgb(97,30,82)\"],[0.3137254901960784,\"rgb(123,30,89)\"],[0.3764705882352941,\"rgb(150,27,91)\"],[0.4392156862745098,\"rgb(177,22,88)\"],[0.5019607843137255,\"rgb(203,26,79)\"],[0.5647058823529412,\"rgb(223,47,67)\"],[0.6274509803921569,\"rgb(236,76,61)\"],[0.6901960784313725,\"rgb(242,107,73)\"],[0.7529411764705882,\"rgb(244,135,95)\"],[0.8156862745098039,\"rgb(245,162,122)\"],[0.8784313725490196,\"rgb(246,188,153)\"],[0.9411764705882353,\"rgb(247,212,187)\"],[1.0,\"rgb(250,234,220)\"]],\"type\":\"contour\"}],\"heatmapgl\":[{\"colorbar\":{\"outlinewidth\":0,\"tickcolor\":\"rgb(36,36,36)\",\"ticklen\":8,\"ticks\":\"outside\",\"tickwidth\":2},\"colorscale\":[[0.0,\"rgb(2,4,25)\"],[0.06274509803921569,\"rgb(24,15,41)\"],[0.12549019607843137,\"rgb(47,23,57)\"],[0.18823529411764706,\"rgb(71,28,72)\"],[0.25098039215686274,\"rgb(97,30,82)\"],[0.3137254901960784,\"rgb(123,30,89)\"],[0.3764705882352941,\"rgb(150,27,91)\"],[0.4392156862745098,\"rgb(177,22,88)\"],[0.5019607843137255,\"rgb(203,26,79)\"],[0.5647058823529412,\"rgb(223,47,67)\"],[0.6274509803921569,\"rgb(236,76,61)\"],[0.6901960784313725,\"rgb(242,107,73)\"],[0.7529411764705882,\"rgb(244,135,95)\"],[0.8156862745098039,\"rgb(245,162,122)\"],[0.8784313725490196,\"rgb(246,188,153)\"],[0.9411764705882353,\"rgb(247,212,187)\"],[1.0,\"rgb(250,234,220)\"]],\"type\":\"heatmapgl\"}],\"heatmap\":[{\"colorbar\":{\"outlinewidth\":0,\"tickcolor\":\"rgb(36,36,36)\",\"ticklen\":8,\"ticks\":\"outside\",\"tickwidth\":2},\"colorscale\":[[0.0,\"rgb(2,4,25)\"],[0.06274509803921569,\"rgb(24,15,41)\"],[0.12549019607843137,\"rgb(47,23,57)\"],[0.18823529411764706,\"rgb(71,28,72)\"],[0.25098039215686274,\"rgb(97,30,82)\"],[0.3137254901960784,\"rgb(123,30,89)\"],[0.3764705882352941,\"rgb(150,27,91)\"],[0.4392156862745098,\"rgb(177,22,88)\"],[0.5019607843137255,\"rgb(203,26,79)\"],[0.5647058823529412,\"rgb(223,47,67)\"],[0.6274509803921569,\"rgb(236,76,61)\"],[0.6901960784313725,\"rgb(242,107,73)\"],[0.7529411764705882,\"rgb(244,135,95)\"],[0.8156862745098039,\"rgb(245,162,122)\"],[0.8784313725490196,\"rgb(246,188,153)\"],[0.9411764705882353,\"rgb(247,212,187)\"],[1.0,\"rgb(250,234,220)\"]],\"type\":\"heatmap\"}],\"histogram2dcontour\":[{\"colorbar\":{\"outlinewidth\":0,\"tickcolor\":\"rgb(36,36,36)\",\"ticklen\":8,\"ticks\":\"outside\",\"tickwidth\":2},\"colorscale\":[[0.0,\"rgb(2,4,25)\"],[0.06274509803921569,\"rgb(24,15,41)\"],[0.12549019607843137,\"rgb(47,23,57)\"],[0.18823529411764706,\"rgb(71,28,72)\"],[0.25098039215686274,\"rgb(97,30,82)\"],[0.3137254901960784,\"rgb(123,30,89)\"],[0.3764705882352941,\"rgb(150,27,91)\"],[0.4392156862745098,\"rgb(177,22,88)\"],[0.5019607843137255,\"rgb(203,26,79)\"],[0.5647058823529412,\"rgb(223,47,67)\"],[0.6274509803921569,\"rgb(236,76,61)\"],[0.6901960784313725,\"rgb(242,107,73)\"],[0.7529411764705882,\"rgb(244,135,95)\"],[0.8156862745098039,\"rgb(245,162,122)\"],[0.8784313725490196,\"rgb(246,188,153)\"],[0.9411764705882353,\"rgb(247,212,187)\"],[1.0,\"rgb(250,234,220)\"]],\"type\":\"histogram2dcontour\"}],\"histogram2d\":[{\"colorbar\":{\"outlinewidth\":0,\"tickcolor\":\"rgb(36,36,36)\",\"ticklen\":8,\"ticks\":\"outside\",\"tickwidth\":2},\"colorscale\":[[0.0,\"rgb(2,4,25)\"],[0.06274509803921569,\"rgb(24,15,41)\"],[0.12549019607843137,\"rgb(47,23,57)\"],[0.18823529411764706,\"rgb(71,28,72)\"],[0.25098039215686274,\"rgb(97,30,82)\"],[0.3137254901960784,\"rgb(123,30,89)\"],[0.3764705882352941,\"rgb(150,27,91)\"],[0.4392156862745098,\"rgb(177,22,88)\"],[0.5019607843137255,\"rgb(203,26,79)\"],[0.5647058823529412,\"rgb(223,47,67)\"],[0.6274509803921569,\"rgb(236,76,61)\"],[0.6901960784313725,\"rgb(242,107,73)\"],[0.7529411764705882,\"rgb(244,135,95)\"],[0.8156862745098039,\"rgb(245,162,122)\"],[0.8784313725490196,\"rgb(246,188,153)\"],[0.9411764705882353,\"rgb(247,212,187)\"],[1.0,\"rgb(250,234,220)\"]],\"type\":\"histogram2d\"}],\"histogram\":[{\"marker\":{\"pattern\":{\"fillmode\":\"overlay\",\"size\":10,\"solidity\":0.2}},\"type\":\"histogram\"}],\"mesh3d\":[{\"colorbar\":{\"outlinewidth\":0,\"tickcolor\":\"rgb(36,36,36)\",\"ticklen\":8,\"ticks\":\"outside\",\"tickwidth\":2},\"type\":\"mesh3d\"}],\"parcoords\":[{\"line\":{\"colorbar\":{\"outlinewidth\":0,\"tickcolor\":\"rgb(36,36,36)\",\"ticklen\":8,\"ticks\":\"outside\",\"tickwidth\":2}},\"type\":\"parcoords\"}],\"pie\":[{\"automargin\":true,\"type\":\"pie\"}],\"scatter3d\":[{\"line\":{\"colorbar\":{\"outlinewidth\":0,\"tickcolor\":\"rgb(36,36,36)\",\"ticklen\":8,\"ticks\":\"outside\",\"tickwidth\":2}},\"marker\":{\"colorbar\":{\"outlinewidth\":0,\"tickcolor\":\"rgb(36,36,36)\",\"ticklen\":8,\"ticks\":\"outside\",\"tickwidth\":2}},\"type\":\"scatter3d\"}],\"scattercarpet\":[{\"marker\":{\"colorbar\":{\"outlinewidth\":0,\"tickcolor\":\"rgb(36,36,36)\",\"ticklen\":8,\"ticks\":\"outside\",\"tickwidth\":2}},\"type\":\"scattercarpet\"}],\"scattergeo\":[{\"marker\":{\"colorbar\":{\"outlinewidth\":0,\"tickcolor\":\"rgb(36,36,36)\",\"ticklen\":8,\"ticks\":\"outside\",\"tickwidth\":2}},\"type\":\"scattergeo\"}],\"scattergl\":[{\"marker\":{\"colorbar\":{\"outlinewidth\":0,\"tickcolor\":\"rgb(36,36,36)\",\"ticklen\":8,\"ticks\":\"outside\",\"tickwidth\":2}},\"type\":\"scattergl\"}],\"scattermapbox\":[{\"marker\":{\"colorbar\":{\"outlinewidth\":0,\"tickcolor\":\"rgb(36,36,36)\",\"ticklen\":8,\"ticks\":\"outside\",\"tickwidth\":2}},\"type\":\"scattermapbox\"}],\"scatterpolargl\":[{\"marker\":{\"colorbar\":{\"outlinewidth\":0,\"tickcolor\":\"rgb(36,36,36)\",\"ticklen\":8,\"ticks\":\"outside\",\"tickwidth\":2}},\"type\":\"scatterpolargl\"}],\"scatterpolar\":[{\"marker\":{\"colorbar\":{\"outlinewidth\":0,\"tickcolor\":\"rgb(36,36,36)\",\"ticklen\":8,\"ticks\":\"outside\",\"tickwidth\":2}},\"type\":\"scatterpolar\"}],\"scatter\":[{\"fillpattern\":{\"fillmode\":\"overlay\",\"size\":10,\"solidity\":0.2},\"type\":\"scatter\"}],\"scatterternary\":[{\"marker\":{\"colorbar\":{\"outlinewidth\":0,\"tickcolor\":\"rgb(36,36,36)\",\"ticklen\":8,\"ticks\":\"outside\",\"tickwidth\":2}},\"type\":\"scatterternary\"}],\"surface\":[{\"colorbar\":{\"outlinewidth\":0,\"tickcolor\":\"rgb(36,36,36)\",\"ticklen\":8,\"ticks\":\"outside\",\"tickwidth\":2},\"colorscale\":[[0.0,\"rgb(2,4,25)\"],[0.06274509803921569,\"rgb(24,15,41)\"],[0.12549019607843137,\"rgb(47,23,57)\"],[0.18823529411764706,\"rgb(71,28,72)\"],[0.25098039215686274,\"rgb(97,30,82)\"],[0.3137254901960784,\"rgb(123,30,89)\"],[0.3764705882352941,\"rgb(150,27,91)\"],[0.4392156862745098,\"rgb(177,22,88)\"],[0.5019607843137255,\"rgb(203,26,79)\"],[0.5647058823529412,\"rgb(223,47,67)\"],[0.6274509803921569,\"rgb(236,76,61)\"],[0.6901960784313725,\"rgb(242,107,73)\"],[0.7529411764705882,\"rgb(244,135,95)\"],[0.8156862745098039,\"rgb(245,162,122)\"],[0.8784313725490196,\"rgb(246,188,153)\"],[0.9411764705882353,\"rgb(247,212,187)\"],[1.0,\"rgb(250,234,220)\"]],\"type\":\"surface\"}],\"table\":[{\"cells\":{\"fill\":{\"color\":\"rgb(231,231,240)\"},\"line\":{\"color\":\"white\"}},\"header\":{\"fill\":{\"color\":\"rgb(183,183,191)\"},\"line\":{\"color\":\"white\"}},\"type\":\"table\"}]},\"layout\":{\"annotationdefaults\":{\"arrowcolor\":\"rgb(67,103,167)\"},\"autotypenumbers\":\"strict\",\"coloraxis\":{\"colorbar\":{\"outlinewidth\":0,\"tickcolor\":\"rgb(36,36,36)\",\"ticklen\":8,\"ticks\":\"outside\",\"tickwidth\":2}},\"colorscale\":{\"sequential\":[[0.0,\"rgb(2,4,25)\"],[0.06274509803921569,\"rgb(24,15,41)\"],[0.12549019607843137,\"rgb(47,23,57)\"],[0.18823529411764706,\"rgb(71,28,72)\"],[0.25098039215686274,\"rgb(97,30,82)\"],[0.3137254901960784,\"rgb(123,30,89)\"],[0.3764705882352941,\"rgb(150,27,91)\"],[0.4392156862745098,\"rgb(177,22,88)\"],[0.5019607843137255,\"rgb(203,26,79)\"],[0.5647058823529412,\"rgb(223,47,67)\"],[0.6274509803921569,\"rgb(236,76,61)\"],[0.6901960784313725,\"rgb(242,107,73)\"],[0.7529411764705882,\"rgb(244,135,95)\"],[0.8156862745098039,\"rgb(245,162,122)\"],[0.8784313725490196,\"rgb(246,188,153)\"],[0.9411764705882353,\"rgb(247,212,187)\"],[1.0,\"rgb(250,234,220)\"]],\"sequentialminus\":[[0.0,\"rgb(2,4,25)\"],[0.06274509803921569,\"rgb(24,15,41)\"],[0.12549019607843137,\"rgb(47,23,57)\"],[0.18823529411764706,\"rgb(71,28,72)\"],[0.25098039215686274,\"rgb(97,30,82)\"],[0.3137254901960784,\"rgb(123,30,89)\"],[0.3764705882352941,\"rgb(150,27,91)\"],[0.4392156862745098,\"rgb(177,22,88)\"],[0.5019607843137255,\"rgb(203,26,79)\"],[0.5647058823529412,\"rgb(223,47,67)\"],[0.6274509803921569,\"rgb(236,76,61)\"],[0.6901960784313725,\"rgb(242,107,73)\"],[0.7529411764705882,\"rgb(244,135,95)\"],[0.8156862745098039,\"rgb(245,162,122)\"],[0.8784313725490196,\"rgb(246,188,153)\"],[0.9411764705882353,\"rgb(247,212,187)\"],[1.0,\"rgb(250,234,220)\"]]},\"colorway\":[\"rgb(76,114,176)\",\"rgb(221,132,82)\",\"rgb(85,168,104)\",\"rgb(196,78,82)\",\"rgb(129,114,179)\",\"rgb(147,120,96)\",\"rgb(218,139,195)\",\"rgb(140,140,140)\",\"rgb(204,185,116)\",\"rgb(100,181,205)\"],\"font\":{\"color\":\"rgb(36,36,36)\"},\"geo\":{\"bgcolor\":\"white\",\"lakecolor\":\"white\",\"landcolor\":\"rgb(234,234,242)\",\"showlakes\":true,\"showland\":true,\"subunitcolor\":\"white\"},\"hoverlabel\":{\"align\":\"left\"},\"hovermode\":\"closest\",\"paper_bgcolor\":\"white\",\"plot_bgcolor\":\"rgb(234,234,242)\",\"polar\":{\"angularaxis\":{\"gridcolor\":\"white\",\"linecolor\":\"white\",\"showgrid\":true,\"ticks\":\"\"},\"bgcolor\":\"rgb(234,234,242)\",\"radialaxis\":{\"gridcolor\":\"white\",\"linecolor\":\"white\",\"showgrid\":true,\"ticks\":\"\"}},\"scene\":{\"xaxis\":{\"backgroundcolor\":\"rgb(234,234,242)\",\"gridcolor\":\"white\",\"gridwidth\":2,\"linecolor\":\"white\",\"showbackground\":true,\"showgrid\":true,\"ticks\":\"\",\"zerolinecolor\":\"white\"},\"yaxis\":{\"backgroundcolor\":\"rgb(234,234,242)\",\"gridcolor\":\"white\",\"gridwidth\":2,\"linecolor\":\"white\",\"showbackground\":true,\"showgrid\":true,\"ticks\":\"\",\"zerolinecolor\":\"white\"},\"zaxis\":{\"backgroundcolor\":\"rgb(234,234,242)\",\"gridcolor\":\"white\",\"gridwidth\":2,\"linecolor\":\"white\",\"showbackground\":true,\"showgrid\":true,\"ticks\":\"\",\"zerolinecolor\":\"white\"}},\"shapedefaults\":{\"fillcolor\":\"rgb(67,103,167)\",\"line\":{\"width\":0},\"opacity\":0.5},\"ternary\":{\"aaxis\":{\"gridcolor\":\"white\",\"linecolor\":\"white\",\"showgrid\":true,\"ticks\":\"\"},\"baxis\":{\"gridcolor\":\"white\",\"linecolor\":\"white\",\"showgrid\":true,\"ticks\":\"\"},\"bgcolor\":\"rgb(234,234,242)\",\"caxis\":{\"gridcolor\":\"white\",\"linecolor\":\"white\",\"showgrid\":true,\"ticks\":\"\"}},\"xaxis\":{\"automargin\":true,\"gridcolor\":\"white\",\"linecolor\":\"white\",\"showgrid\":true,\"ticks\":\"\",\"title\":{\"standoff\":15},\"zerolinecolor\":\"white\"},\"yaxis\":{\"automargin\":true,\"gridcolor\":\"white\",\"linecolor\":\"white\",\"showgrid\":true,\"ticks\":\"\",\"title\":{\"standoff\":15},\"zerolinecolor\":\"white\"}}},\"xaxis\":{\"anchor\":\"y\",\"domain\":[0.0,1.0],\"title\":{\"text\":\"A\\u00f1os\"}},\"yaxis\":{\"anchor\":\"x\",\"domain\":[0.0,1.0],\"title\":{\"text\":\"Cantidad de emigrantes\"}},\"legend\":{\"title\":{\"text\":\"variable\"},\"tracegroupgap\":0},\"margin\":{\"t\":60}},                        {\"responsive\": true}                    ).then(function(){\n",
       "                            \n",
       "var gd = document.getElementById('7a8d9830-3fb5-45e1-b433-ab7c6771c004');\n",
       "var x = new MutationObserver(function (mutations, observer) {{\n",
       "        var display = window.getComputedStyle(gd).display;\n",
       "        if (!display || display === 'none') {{\n",
       "            console.log([gd, 'removed!']);\n",
       "            Plotly.purge(gd);\n",
       "            observer.disconnect();\n",
       "        }}\n",
       "}});\n",
       "\n",
       "// Listen for the removal of the full notebook cells\n",
       "var notebookContainer = gd.closest('#notebook-container');\n",
       "if (notebookContainer) {{\n",
       "    x.observe(notebookContainer, {childList: true});\n",
       "}}\n",
       "\n",
       "// Listen for the clearing of the current output cell\n",
       "var outputEl = gd.closest('.output');\n",
       "if (outputEl) {{\n",
       "    x.observe(outputEl, {childList: true});\n",
       "}}\n",
       "\n",
       "                        })                };                });            </script>        </div>"
      ]
     },
     "metadata": {},
     "output_type": "display_data"
    }
   ],
   "source": [
    "#llamamos a la función llenar_listas \n",
    "# con los dos primeros parametros son los filtros para llenar la lista con los datos del json\n",
    "# el tercer parametro es una lista de todas las Provincias\n",
    "provi = llenar_lista(\"ProvinciasMI\",\"emigracion06-22\",granma['Provincias'])\n",
    "\n",
    "#separar datos de hombres que estan en los indices par\n",
    "proviH = [y for x,y in enumerate(provi) if x%2 == 0 ]\n",
    "\n",
    "#lo llevamos a matriz de numpy\n",
    "proviH = np.array(proviH)\n",
    "\n",
    "#separar datos de mujeres que están en indice impar\n",
    "proviM = [y for x,y in enumerate(provi)if x%2 != 0]\n",
    "\n",
    "#lo llevamos a matriz de numpy\n",
    "proviM = np.array(proviM)\n",
    "\n",
    "#sumamos los hombres mas las mujeres\n",
    "sumaH_M = proviM + proviH\n",
    "\n",
    "#creamos el dataFrame de Hombres y mujeres de la emigración interna desde el 2006-2022\n",
    "#se le asigna a los indices las provincias y a las columnas los años del 2006-2022\n",
    "df = pd.DataFrame(sumaH_M,index = granma[\"Provincias\"],columns = [x for x in granma[\"años\"]if x >= 2006])\n",
    "\n",
    "#le hacemos la transpuesta\n",
    "df = df.T\n",
    "\n",
    "#creamos un gráfico de lineas con plotly\n",
    "fig = px.line(df,x = df.index,y = df.columns,template = 'seaborn')\n",
    "#cambiamos el nombre de los ejes de coordenadas\n",
    "fig.update_yaxes(title_text = 'Cantidad de emigrantes')\n",
    "fig.update_xaxes(title_text = 'Años')"
   ]
  },
  {
   "cell_type": "markdown",
   "id": "7bf69453",
   "metadata": {},
   "source": [
    "Según las últimas estadísticas, se estima que alrededor del 50% de los emigrantes procedentes de esta provincia son mujeres. Este dato revela una tendencia significativa en la composición de la población migrante, donde las mujeres juegan un papel cada vez más relevante en la búsqueda de oportunidades fuera de sus fronteras.\n",
    "La presencia equitativa de mujeres en el flujo migratorio de Granma refleja una realidad social en la que las mujeres están asumiendo un rol activo en la toma de decisiones sobre su futuro y su bienestar. Cada vez más mujeres están optando por emprender el desafío de vivir en una provincia diferente."
   ]
  },
  {
   "cell_type": "code",
   "execution_count": 630,
   "id": "17ad39f0",
   "metadata": {},
   "outputs": [
    {
     "name": "stdout",
     "output_type": "stream",
     "text": [
      "La media de emigrantes mujeres a lo largo de los años representa un: 51%\n",
      "La media de emigrantes hombres a lo largo de los años representa un: 49%\n"
     ]
    },
    {
     "data": {
      "image/png": "[encoded data removed]",
      "text/plain": [
       "<Figure size 900x600 with 1 Axes>"
      ]
     },
     "metadata": {},
     "output_type": "display_data"
    }
   ],
   "source": [
    "#transpuesta\n",
    "sumaH_M = sumaH_M.T\n",
    "#sumamos las filas \n",
    "total = sumaH_M.sum(axis = 1)\n",
    "#transpuesta a la matriz de mujeres\n",
    "proviMT = proviM.T\n",
    "#sumar las filas de la matriz transpuesta de mujeres\n",
    "totalM = proviMT.sum(axis = 1)\n",
    "#restamos total-total de mujeres y obtenemos el total de los hombres en cada año\n",
    "totalH = total-totalM\n",
    "#calcuamos la media de hombres y mujeres\n",
    "mediaH = round(np.mean(totalH))\n",
    "mediaM = round(np.mean(totalM))\n",
    "#media del porciento de mujeres y hombres y despues lo redondeo\n",
    "porcientoM = round(((totalM/total)*100).mean())\n",
    "porcientoH = round(((totalH/total)*100).mean())\n",
    "\n",
    "print(f\"La media de emigrantes mujeres a lo largo de los años representa un: {porcientoM}%\")\n",
    "print(f\"La media de emigrantes hombres a lo largo de los años representa un: {porcientoH}%\")\n",
    "#ajustamos el tamaño de la gráfica \n",
    "plt.figure(figsize = (9, 6))\n",
    "sns.barplot(x = [x for x in granma['años']if x >= 2006],y = totalMigrantes, palette = \"coolwarm\")\n",
    "# Obtener los ejes actuales\n",
    "ax = plt.gca()\n",
    "#Configurar el ángulo de rotación en el eje x \n",
    "ax.set_xticklabels(ax.get_xticklabels(), rotation = 75)\n",
    "#añadimos titulo\n",
    "plt.title('Emigración interna total interna por año', fontsize = 16)\n",
    "#agregamos las medias al gráfico\n",
    "plt.axhline(y = mediaM, color = 'r', linestyle = '--', linewidth = 2,label = f\"media de mujeres: {mediaM}\")\n",
    "plt.axhline(y = mediaH, color = 'b', linestyle = '--', linewidth = 2,label = f\"media de hombres: {mediaH}\")\n",
    "\n",
    "#mostramos la leyenda\n",
    "plt.legend(bbox_to_anchor = (1.02, 1), loc = 'upper left')\n",
    "#mostramos el gráfico \n",
    "plt.show()"
   ]
  },
  {
   "cell_type": "markdown",
   "id": "4d03b371",
   "metadata": {},
   "source": [
    "#### ¿Serán cifras importantes?\n",
    "Granma cuenta con una población promedio de 828521 residentes distribuidas entre 12 municipios, cada municipio dispone de una media de 63732 personas residentes, siendo Bayamo, capital de la provincia con media de 129251 residentes, casi el doble de la media de residentes por municipios. En cuanto a la representación de las mujeres en esta población, representan un 49%. Por lo que su mayoritaria presencia en los procesos migratorios no a representado una afectación a la población femenina de la provincia Granma, pues esta solo se ha visto disminuida en un 0.85% debido a estos, cifra que no considero significativa.\n",
    "\n",
    "Es importante destacar que su presencia es significativa y diversa, son responsables de la reproducción y el cuidado de la siguiente generación, lo que garantiza la continuidad de la especie humana. Su capacidad para concebir y dar a luz a nuevos seres humanos es crucial para el crecimiento y la diversidad de la población. Además, desempeñan roles clave en la crianza y educación de los niños, transmitiendo valores, conocimientos y habilidades que son esenciales para el desarrollo de una sociedad sana y equilibrada. También contribuyen de manera significativa a la fuerza laboral y económica de una población, representan una parte importante de la fuerza laboral, desempeñando una amplia gama de roles en diversos sectores de la economía con un. Su participación activa en el mercado laboral contribuye al crecimiento económico y al desarrollo social, generando riqueza y oportunidades para la comunidad en su conjunto."
   ]
  },
  {
   "cell_type": "code",
   "execution_count": 578,
   "id": "60cafdf5",
   "metadata": {
    "scrolled": true
   },
   "outputs": [
    {
     "data": {
      "image/png": "[encoded data removed]",
      "text/plain": [
       "<Figure size 1000x400 with 1 Axes>"
      ]
     },
     "metadata": {},
     "output_type": "display_data"
    }
   ],
   "source": [
    "#lista de residentes hombres y mujeres 2006-2022\n",
    "poblacionT = llenar_lista(\"municipios\",'residentesH_M_06-22',granma['listamunis'])\n",
    "#separo los hombres que están en los indice par\n",
    "listaH = [y for x,y in enumerate(poblacionT) if x%2 == 0 ]\n",
    "\n",
    "#separo las mujeres que están en los indice impar\n",
    "listaM = [y for x,y in enumerate(poblacionT)if x%2 != 0]\n",
    "\n",
    "#los llevamos a matrices numpy\n",
    "listaH = np.array(listaH)\n",
    "listaM = np.array(listaM)\n",
    "\n",
    "#los sumamos\n",
    "T = listaH + listaM\n",
    "\n",
    "#transpuesta\n",
    "T = T.T\n",
    "listaMT = listaM.T\n",
    "\n",
    "#media de la población \n",
    "mediaPobla = round(T.sum(axis = 1).mean())\n",
    "#mediad de mujeres\n",
    "mediaMuje = round(listaMT.sum(axis = 1).mean())\n",
    "#media de bayamo\n",
    "mediabay = round(np.sum(T[:,5].mean()))\n",
    "\n",
    "#porciento de mujeres emigrantes con respecto al total de estas\n",
    "p = (mediaM / mediaMuje) * 100\n",
    "#media del total de municipios\n",
    "mediaMun = round(T.mean())\n",
    "#porciento de mujeres\n",
    "porcientoM = round((mediaMuje / mediaPobla) * 100)\n",
    "#sumas\n",
    "TS = T.sum(axis = 1)\n",
    "listaMTS = listaMT.sum(axis = 1)\n",
    "#creamos dataframe de total de residentes\n",
    "df = pd.DataFrame(T,index = [x for x in granma['años']if x >= 2006],columns = granma['listamunis'])\n",
    "#dataframe del total de de mujeres por municipios \n",
    "dfMT = pd.DataFrame(listaMT,index = [x for x in granma['años']if x >= 2006],columns = granma['listamunis'])\n",
    "\n",
    "#creación de subplots\n",
    "axes = plt.subplots(ncols = 1, figsize = (10, 4))\n",
    "sns.barplot(x = [x for x in granma['años']if x >= 2006],y = TS,ax = axes[1],color = 'darkseagreen',edgecolor = \"black\",label = \"hombres residentes\")\n",
    "sns.barplot(x = [x for x in granma['años']if x >= 2006],y = listaMTS,ax = axes[1],palette = 'Blues_d',edgecolor = \"black\",label = 'mujeres residentes')\n",
    "axes[1].set_title('Representación de mujeres y hombres',fontsize = 16)\n",
    "plt.tight_layout()\n",
    "#agragamos la media de mujeres con respecto al tota\n",
    "plt.axhline(y = mediaMuje, color ='r', linestyle = '--', linewidth = 6,label = \" media de mujeres residentes\")\n",
    "#agregamos el % de mujeres emigrantes con respecto a la media de muejeres\n",
    "plt.axhline(y = p, color = 'b', linestyle = '--', linewidth = 7,label = \"% de mujeres emigrantes\")\n",
    "#agregamos la media de residentes de bayamo\n",
    "plt.axhline(y = mediabay, color = 'y', linestyle = '--', linewidth = 6,label = \"media de residentes en bayamo\")\n",
    "#mostramos la leyenda\n",
    "plt.legend(bbox_to_anchor = (1.02, 1), loc = 'upper left')\n",
    "plt.show()"
   ]
  },
  {
   "cell_type": "markdown",
   "id": "de30f34d",
   "metadata": {},
   "source": [
    "#### ¿ La población disminuirá debido a los procesos migratorios?"
   ]
  },
  {
   "cell_type": "code",
   "execution_count": null,
   "id": "342d1440",
   "metadata": {},
   "outputs": [],
   "source": []
  },
  {
   "cell_type": "markdown",
   "id": "b60816c1",
   "metadata": {},
   "source": [
    "#### ¿Será solo en Granma?¿Qué ocurre en las provincias cercanas? \n",
    "\n",
    "En Granma, la emigración ha estado influenciada por diversos factores, como las limitaciones económicas, las restricciones políticas y la búsqueda de mejores condiciones de vida. Muchos granmences han optado por emigrar en busca de oportunidades laborales, educativas o personales que no pueden encontrar en su lugar de origen. Esta tendencia se ha visto reflejada en otras provincias orientales de Cuba, donde la emigración también ha sido una realidad constante.\n",
    "Una comparativa entre las tasas de emigración de Granma y la de otras provincias orientales de Cuba revela similitudes en las cifras con todas, Guantánamo con una media de -7.8 lidera las provincias orientales, seguido de Granma con -5.07 y en menor cantidad, Las Tunas con -2.85. Una tasa de emigración negativa significa que más personas deciden salir de la provincia, que las que deciden entrar. Esto indica que no solo es en Granma, en las provincias cercanas tambien se tiene un pensamiento similar de emigrar. En Granma particularmente, observando las medias de emigrantes por año (números no muy altos) y las tasas de emigración negativa, concluyo de que Granma ha experimentado una pérdida de pobblación, no en gran medida por los porcesos migratorios (de salidas), sinó que  acoge a menos emigrantes (de entrada). \n",
    "\n",
    "\n",
    "\n"
   ]
  },
  {
   "cell_type": "code",
   "execution_count": 662,
   "id": "217a0002",
   "metadata": {
    "scrolled": false
   },
   "outputs": [
    {
     "data": {
      "image/png": "[encoded data removed]",
      "text/plain": [
       "<Figure size 1100x400 with 5 Axes>"
      ]
     },
     "metadata": {},
     "output_type": "display_data"
    }
   ],
   "source": [
    "#listas de las tasas de emigración interna de las provincias orientales \n",
    "tmiGr = np.array(granma['TMI_general'])#Granma\n",
    "tmiLT = np.array(granma['ProvinciasMI'][\"Las Tunas\"]['tmi'])#Las Tunas\n",
    "tmiH = np.array(granma['ProvinciasMI']['Holguín']['tmi'])#Holguín\n",
    "tmiS = np.array(granma['ProvinciasMI']['Santiago de Cuba']['tmi'])#Santiago de Cuba\n",
    "tmiG = np.array(granma['ProvinciasMI']['Guantánamo']['tmi'])#Guantánamo \n",
    "\n",
    "#promedios\n",
    "proGs = tmiG.mean()\n",
    "proH = tmiH.mean()\n",
    "proLTs = tmiLT.mean()\n",
    "proS = tmiS.mean()\n",
    "proGR = tmiGr.mean()\n",
    "\n",
    "# 5 subplots\n",
    "fig,axes = plt.subplots(ncols = 5, figsize = (11,4))\n",
    "\n",
    "sns.barplot(x = [x for x in granma['años']if x >= 2006],y = tmiGr,ax = axes[0],palette = 'Blues_d')\n",
    "axes[0].set_title(\"Granma\")\n",
    "#Configurar el ángulo de rotación en el eje x \n",
    "axes[0].set_xticklabels(axes[0].get_xticklabels(), rotation = 90)\n",
    "\n",
    "sns.barplot(x = [x for x in granma['años']if x >= 2006],y = tmiH,ax = axes[1],palette = 'Blues_d')\n",
    "axes[1].set_title(\"Holguín\")\n",
    "#Configurar el ángulo de rotación en el eje x \n",
    "axes[1].set_xticklabels(axes[1].get_xticklabels(), rotation=90)\n",
    "\n",
    "sns.barplot(x = [x for x in granma['años']if x >= 2006],y = tmiS,ax=axes[2],palette = 'Blues_d')\n",
    "axes[2].set_title(\"Santigo de Cuba\")\n",
    "#Configurar el ángulo de rotación en el eje x \n",
    "axes[2].set_xticklabels(axes[2].get_xticklabels(), rotation=90)\n",
    "\n",
    "sns.barplot(x = [x for x in granma['años']if x >= 2006],y = tmiG,ax = axes[3],palette = 'Blues_d')\n",
    "axes[3].set_title(\"Guantánamo\")\n",
    "#Configurar el ángulo de rotación en el eje x \n",
    "axes[3].set_xticklabels(axes[3].get_xticklabels(), rotation=90)\n",
    "\n",
    "sns.barplot(x = [x for x in granma['años']if x >= 2006],y = tmiLT,ax = axes[4],palette = 'Blues_d')\n",
    "axes[4].set_title(\"Las Tunas\")\n",
    "#Configurar el ángulo de rotación en el eje x \n",
    "axes[4].set_xticklabels(axes[4].get_xticklabels(), rotation=90)\n",
    "\n",
    "#agragar medias\n",
    "axes[0].axhline(y = proGR, color = 'r', linestyle = '--', linewidth = 2,label = f\"Tasa media: {proGR}\")\n",
    "axes[1].axhline(y = proH, color = 'r', linestyle = '--', linewidth = 2,label = f\"Tasa media: {proH}\")\n",
    "axes[2].axhline(y = proS, color = 'r', linestyle = '--', linewidth = 2,label = f\"Tasa media: {proS}\")\n",
    "axes[3].axhline(y = proGs, color = 'r', linestyle = '--', linewidth = 2,label = f\"Tasa media: {proGs}\")\n",
    "axes[4].axhline(y = proLTs, color = 'r', linestyle = '--', linewidth = 2,label = f\"Tasa media: {proLTs}\")\n",
    "\n",
    "#ajustar tamaño entre las gráficas\n",
    "plt.tight_layout()\n",
    "#agregamos leyendas\n",
    "for i in range(5):\n",
    "    axes[i].legend( loc = 'lower center')\n",
    "plt.show()"
   ]
  },
  {
   "cell_type": "markdown",
   "id": "c0294144",
   "metadata": {},
   "source": [
    "#### ¿Cómo afectará a Granma?"
   ]
  },
  {
   "cell_type": "code",
   "execution_count": null,
   "id": "1522de4c",
   "metadata": {},
   "outputs": [],
   "source": []
  }
 ],
 "metadata": {
  "kernelspec": {
   "display_name": "Python 3 (ipykernel)",
   "language": "python",
   "name": "python3"
  },
  "language_info": {
   "codemirror_mode": {
    "name": "ipython",
    "version": 3
   },
   "file_extension": ".py",
   "mimetype": "text/x-python",
   "name": "python",
   "nbconvert_exporter": "python",
   "pygments_lexer": "ipython3",
   "version": "3.11.5"
  }
 },
 "nbformat": 4,
 "nbformat_minor": 5
}
