{
 "cells": [
  {
   "cell_type": "markdown",
   "id": "43168037",
   "metadata": {},
   "source": [
    "#  GRANMA\n",
    "Desde hace décadas, Granma ha sido escenario de significativas olas migratorias que han dejado una profunda huella en su tejido social. Este flujo constante de personas que han optado por buscar nuevas oportunidades más allá de sus fronteras ha tenido un impacto significativo en diversos aspectos de la vida en la provincia. \n",
    "\n",
    "## ¿Cómo obtuve los datos?\n",
    "todos los datos fueron extraidos de la Oficina Nacional de Estadisticas e Información (ONEI)\n"
   ]
  },
  {
   "cell_type": "markdown",
   "id": "a6c04d18",
   "metadata": {},
   "source": []
  },
  {
   "cell_type": "code",
   "execution_count": null,
   "id": "f3dee25f",
   "metadata": {},
   "outputs": [],
   "source": []
  }
 ],
 "metadata": {
  "kernelspec": {
   "display_name": "Python 3 (ipykernel)",
   "language": "python",
   "name": "python3"
  },
  "language_info": {
   "codemirror_mode": {
    "name": "ipython",
    "version": 3
   },
   "file_extension": ".py",
   "mimetype": "text/x-python",
   "name": "python",
   "nbconvert_exporter": "python",
   "pygments_lexer": "ipython3",
   "version": "3.11.5"
  }
 },
 "nbformat": 4,
 "nbformat_minor": 5
}
