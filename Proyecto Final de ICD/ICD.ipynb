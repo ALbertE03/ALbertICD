{
 "cells": [
  {
   "cell_type": "markdown",
   "id": "e0b18934",
   "metadata": {},
   "source": [
    "#    \"Raíces en Tierras Lejanas\"\n",
    "\n",
    "\n",
    "En un pequeño pueblo en la provincia de Granma, dos amigos de la infancia, Juan y Mireya, crecieron entre los extensos campos de boniato y los frondosos árboles de mango. A medida que crecían, surgieron en ellos sueños de explorar nuevas oportunidades en un lugar diferente, un destino que vieron en la bulliciosa capital de Cuba, La Habana.\n",
    "Impulsados por su ambición y sed de descubrimiento, Juan y Mireya decidieron emprender el viaje en busca de un futuro diferente; dejaron atrás los cultivos familiares, las risas compartidas en la sombra de los árboles de mango y los atardeceres sobre los campos de caña. Después de un largo viaje, finalmente llegaron a La Habana. Allí, se encontraron con un mundo completamente nuevo y emocionante, lleno de oportunidades y posibilidades. \n",
    "\n",
    "Esta es una breve hisotria donde se ve evidenciado la emigración, o desplazamiento de personas con el fin de establecerse de manera semipermanente o definitiva en otro lugar, motivado por diversas razones, ya sea como las de juan y Mireya, en busqueda de nuevas oportunidades, o por situaciones sociales, políticos o incluso ideológicos.\n",
    "\n",
    "\n",
    "\n",
    "\n",
    "\n",
    " "
   ]
  },
  {
   "cell_type": "code",
   "execution_count": 5,
   "id": "f3dee25f",
   "metadata": {
    "scrolled": false
   },
   "outputs": [],
   "source": [
    "#importar las bibliotecas\n",
    "import plotly.express as px\n",
    "import json \n",
    "import pandas as pd\n",
    "import matplotlib.pyplot as plt\n",
    "import numpy as np\n",
    "\n",
    "#cargamos los datos de json\n",
    "with open ('datos.json','r')as gr:\n",
    "    dt=gr.read()\n",
    "granma=json.loads(dt)\n",
    "\n",
    "##### funciones que utilizo #####\n",
    "\n",
    "#función para sacar llenar listas con los datos del Json \n",
    "def llenar_lista(filtro1, filtro2,lista1)->list:\n",
    "    lista=[]\n",
    "    for keys,values in granma.items(): #itero el diccionario\n",
    "        if keys==filtro1: #si la clave del diccionario inicial es igual al primer filtro\n",
    "            for clave,valor in values.items(): # itero el segundo diccionario2\n",
    "                if clave in lista1: # si las claves están en la lista1 enviada por parametro\n",
    "                     for key,value in valor.items():# itero el diccionario3 del valor de las claves que esten en la lista1\n",
    "                            if key ==filtro2: # si la clave de diccionario3 es igual al ultimo filtro2\n",
    "                                lista.extend(value) #agrego a la lista las lista de listas\n",
    "              \n",
    "    return lista\n",
    "\n",
    "#función que devuelve una lista donde cada posición es la suma de cada provincia desde el 2006-2022\n",
    "def sumaEmigrantes_Provi(lista1)->list:\n",
    "    aux=[]\n",
    "    suma=0\n",
    "    for i in lista1:\n",
    "        b=sum(i)\n",
    "        aux.append(b)\n",
    "    return aux\n",
    "\n",
    "#función que devuelve el total de emigrantes por cada año\n",
    "def sumarEmigrantes_Años(lista,año)->int:\n",
    "    suma=0\n",
    "    index=año-2006\n",
    "    for i in lista:\n",
    "        suma+=i[index]\n",
    "    return suma\n",
    "\n",
    "\n",
    "#función que devuelve una lista con la suma dos listas \n",
    "def sumar_listas(lista1,lista2)->list:\n",
    "    aux1=[]\n",
    "    for i in range(len(lista1)):\n",
    "        aux1.append(lista1[i]+lista2[i])\n",
    "    return aux1\n"
   ]
  },
  {
   "cell_type": "markdown",
   "id": "11a39098",
   "metadata": {},
   "source": [
    "\n",
    "\n"
   ]
  },
  {
   "cell_type": "code",
   "execution_count": null,
   "id": "a9753f8e",
   "metadata": {},
   "outputs": [],
   "source": []
  }
 ],
 "metadata": {
  "kernelspec": {
   "display_name": "Python 3 (ipykernel)",
   "language": "python",
   "name": "python3"
  },
  "language_info": {
   "codemirror_mode": {
    "name": "ipython",
    "version": 3
   },
   "file_extension": ".py",
   "mimetype": "text/x-python",
   "name": "python",
   "nbconvert_exporter": "python",
   "pygments_lexer": "ipython3",
   "version": "3.11.5"
  }
 },
 "nbformat": 4,
 "nbformat_minor": 5
}
