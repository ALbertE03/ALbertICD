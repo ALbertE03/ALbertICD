{
 "cells": [
  {
   "cell_type": "code",
   "execution_count": 42,
   "id": "4b93b5a8",
   "metadata": {},
   "outputs": [
    {
     "name": "stdout",
     "output_type": "stream",
     "text": [
      "175CAPÍTULO 13\n",
      "TURISMO\n",
      "INTRODUCCIÓN\n",
      "El capítulo tiene la finalidad de presentar un conjunto de indicadores que reflejan el desarrollo\n",
      "alcanzado en la actividad turística de laprovincia ,los cuales resultan primordiales para análisis\n",
      "económicos y trazar est rategias en aras de mejorar los resultados en este sector.\n",
      "A partir de 1990 es la actividad del turismo una de las primeras en que se comienza a realizar\n",
      "asociaciones con capitales extranjeros, las cuales se incrementan con la creación del Ministerio\n",
      "delTurismo en 1994, y la Ley  de Inversiones Extranjeras (No. 77 de 1975). Actualmente las\n",
      "empresas e instituciones que realizan las actividades relacionadas con la prestación del servicio\n",
      "de alojamiento y otros tipos de servicios ,que se brindan en la activi dad turística, pasan a integrar\n",
      "las cadenas turísticas  que incluyen empresas mixtas y contratos de asociación económica\n",
      "internacional.\n",
      "Además existen entidades con actividades de alojamiento que son administradas por los Órganos\n",
      "Locales del Poder Popular , así como la actividad de Campismo Popular atendida por la Empresa\n",
      "Nacional de Campismo.\n",
      "El universo de información que se brinda abarca las entidades especializadas y no especializadas\n",
      "que realizan las actividades relacionadas con la prestación de servic iosde: alojamiento, comercio\n",
      "minorista, gastronomía, transporte, recreación y otros servicios relacionados con la actividad\n",
      "turística.\n",
      "A continuación se ofrece la definición metodológica de los principales indicadores que\n",
      "aparecen en el capítulo:\n",
      "Estable cimiento: Destinado al alojamiento como actividad fundamental, clasificados por\n",
      "modalidad y categorías, ofrece habitaciones amuebladas con servicios complementarios de\n",
      "bebidas.\n",
      "Habitaciones: Se refiere a la capacidad de alojamiento, representa el número t otal de\n",
      "habitaciones con que cuenta un centro de alojamiento ,estén disponible spara su uso o no. Esta\n",
      "cifra generalmente es fija, sólo se modifica cuando se produce incremento por construcción o baja\n",
      "por demolición y otras causas.\n",
      "Plazas: Es la capacidad de alojamiento que tiene cada instalación determinada por el número de\n",
      "camas con que cuentan las habitaciones en existencia. En el caso de estar equipada por una\n",
      "cama camera o matrimonial se consideran dos plazas. Solo se modifica cuando la plaza deja de\n",
      "existir, cuando se incrementan las habitaciones, cuando se sustituyen camas personales por\n",
      "cameras o viceversa.\n"
     ]
    }
   ],
   "source": [
    "import PyPDF2\n",
    "import json\n",
    "\n",
    "\n",
    "def convertirPDf_a_json(pdf_file,json_file): # función que recive el pdf a leer y el json a crear\n",
    "    with open (pdf_file,'rb') as PDF: # abrimos el pdf en lectura binaria \"rb\" \n",
    "        lista = []\n",
    "        Pdf_completo = PyPDF2.PdfReader(PDF) # extraemos la información del pdf\n",
    "        paginas = len(Pdf_completo.pages) # total de páginas del pdf\n",
    "    \n",
    "        for pagina in range(paginas): # iteramos el total de páginas del pdf \n",
    "            hoja = Pdf_completo.pages[pagina] #obtenemos la página de cada interacción  \n",
    "            texto = hoja.extract_text() # extraemos el texto de la página \n",
    "            lista.append(texto) \n",
    "    \n",
    "        PDF.close() # cerramos el pdf\n",
    "    datos_pdf = {'texto':lista} # añadimos la lista del texto de cada página a un diccionario\n",
    "\n",
    "    with open (json_file,'w') as archivo_json: # abrimos el json en modo escritura \"w\"\n",
    "        json.dump(datos_pdf, archivo_json, indent=4) # convierte el diccionario datos_pdf en en json \n",
    "    \n",
    "    with open (json_file,\"r\") as archivo_json:\n",
    "        a=json.load(archivo_json)\n",
    "        print(a['texto'][174])\n",
    "        archivo_json.close() # cerramos el json \n",
    "\n",
    "convertirPDf_a_json('aep-granma-2022.pdf','json_file.json')\n"
   ]
  },
  {
   "cell_type": "code",
   "execution_count": null,
   "id": "0ff43709",
   "metadata": {},
   "outputs": [],
   "source": []
  }
 ],
 "metadata": {
  "kernelspec": {
   "display_name": "Python 3 (ipykernel)",
   "language": "python",
   "name": "python3"
  },
  "language_info": {
   "codemirror_mode": {
    "name": "ipython",
    "version": 3
   },
   "file_extension": ".py",
   "mimetype": "text/x-python",
   "name": "python",
   "nbconvert_exporter": "python",
   "pygments_lexer": "ipython3",
   "version": "3.11.5"
  }
 },
 "nbformat": 4,
 "nbformat_minor": 5
}
