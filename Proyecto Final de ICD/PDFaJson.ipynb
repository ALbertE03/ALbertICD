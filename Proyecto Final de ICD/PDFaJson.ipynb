{
 "cells": [
  {
   "cell_type": "code",
   "execution_count": 33,
   "id": "4b93b5a8",
   "metadata": {},
   "outputs": [],
   "source": [
    "import PyPDF2\n",
    "import json\n",
    "\n",
    "\n",
    "def convertirPDf_a_json(pdf_file,json_file):\n",
    "    with open (pdf_file,'rb') as PDF:\n",
    "        text=[]\n",
    "        Pdf_completo = PyPDF2.PdfReader(PDF)\n",
    "        paginas= len(Pdf_completo.pages)\n",
    "    \n",
    "        for pagina in range(paginas):\n",
    "            hoja =Pdf_completo.pages[pagina]\n",
    "            texto = hoja.extract_text()\n",
    "            text.append(texto)\n",
    "            \n",
    "    datos_pdf={'texto':text}\n",
    "\n",
    "    with open (json_file,'w') as archivo_json:\n",
    "        json.dump(datos_pdf, archivo_json, indent=4)\n",
    "    \n",
    "    \n",
    "\n",
    "convertirPDf_a_json('aep-granma-2022.pdf','json_file.json')\n"
   ]
  },
  {
   "cell_type": "code",
   "execution_count": null,
   "id": "0ff43709",
   "metadata": {},
   "outputs": [],
   "source": []
  }
 ],
 "metadata": {
  "kernelspec": {
   "display_name": "Python 3 (ipykernel)",
   "language": "python",
   "name": "python3"
  },
  "language_info": {
   "codemirror_mode": {
    "name": "ipython",
    "version": 3
   },
   "file_extension": ".py",
   "mimetype": "text/x-python",
   "name": "python",
   "nbconvert_exporter": "python",
   "pygments_lexer": "ipython3",
   "version": "3.11.5"
  }
 },
 "nbformat": 4,
 "nbformat_minor": 5
}
