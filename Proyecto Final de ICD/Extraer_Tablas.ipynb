{
 "cells": [
  {
   "cell_type": "code",
   "execution_count": 67,
   "id": "4b93b5a8",
   "metadata": {},
   "outputs": [],
   "source": [
    "import tabula \n",
    "\n",
    "def convertirPDf_a_json(pdf_file): \n",
    "    dfs= tabula.read_pdf(pdf_file, pages='178') # extraer las tablas de la página 178\n",
    "    \n",
    "    for i in range(len(dfs)): # recorrer la cantidad de tablas que tenga la página y convertirar a csv\n",
    "        dfs[i].to_csv(f\"tabla{i}.csv\")\n",
    "\n",
    "\n",
    "\n",
    "pdf_path='aep-granma-2022.pdf'\n",
    "convertirPDf_a_json('aep-granma-2022.pdf')\n"
   ]
  },
  {
   "cell_type": "code",
   "execution_count": null,
   "id": "0ff43709",
   "metadata": {},
   "outputs": [],
   "source": []
  }
 ],
 "metadata": {
  "kernelspec": {
   "display_name": "Python 3 (ipykernel)",
   "language": "python",
   "name": "python3"
  },
  "language_info": {
   "codemirror_mode": {
    "name": "ipython",
    "version": 3
   },
   "file_extension": ".py",
   "mimetype": "text/x-python",
   "name": "python",
   "nbconvert_exporter": "python",
   "pygments_lexer": "ipython3",
   "version": "3.11.5"
  }
 },
 "nbformat": 4,
 "nbformat_minor": 5
}
