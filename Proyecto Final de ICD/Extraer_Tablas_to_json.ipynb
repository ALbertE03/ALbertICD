{
 "cells": [
  {
   "cell_type": "code",
   "execution_count": 89,
   "id": "4b93b5a8",
   "metadata": {},
   "outputs": [],
   "source": [
    "import tabula \n",
    "import pandas as pd\n",
    "import json\n",
    "\n",
    "def convertirPDf_a_json(pdf_file): \n",
    "    #llevar las tablas que necesito del pdf a un csv\n",
    "    tabula.convert_into(pdf_file, 'tablas.csv', output_format='csv',pages='180')\n",
    "\n",
    "\n",
    "def llevar_csv_a_json(csv_file):\n",
    "    df = pd.read_csv(csv_file) \n",
    "    json = df.to_json(orient='records')\n",
    "    with open ('datos2.json','w')as datos:\n",
    "        datos.write(json)\n",
    "\n",
    "convertirPDf_a_json('aep-granma-2022.pdf')\n",
    "llevar_csv_a_json('tabla2.csv')"
   ]
  },
  {
   "cell_type": "code",
   "execution_count": null,
   "id": "0ff43709",
   "metadata": {},
   "outputs": [],
   "source": []
  }
 ],
 "metadata": {
  "kernelspec": {
   "display_name": "Python 3 (ipykernel)",
   "language": "python",
   "name": "python3"
  },
  "language_info": {
   "codemirror_mode": {
    "name": "ipython",
    "version": 3
   },
   "file_extension": ".py",
   "mimetype": "text/x-python",
   "name": "python",
   "nbconvert_exporter": "python",
   "pygments_lexer": "ipython3",
   "version": "3.11.5"
  }
 },
 "nbformat": 4,
 "nbformat_minor": 5
}
