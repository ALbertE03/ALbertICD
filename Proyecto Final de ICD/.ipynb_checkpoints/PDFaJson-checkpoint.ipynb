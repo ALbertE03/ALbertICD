{
 "cells": [
  {
   "cell_type": "code",
   "execution_count": 37,
   "id": "4b93b5a8",
   "metadata": {},
   "outputs": [],
   "source": [
    "import PyPDF2\n",
    "import json\n",
    "\n",
    "\n",
    "def convertirPDf_a_json(pdf_file,json_file): # función que recive el pdf a leer y el json a crear\n",
    "    with open (pdf_file,'rb') as PDF: # abrimos el pdf en lectura binaria \"rb\" \n",
    "        text=[]\n",
    "        Pdf_completo = PyPDF2.PdfReader(PDF) # extraemos la información del pdf\n",
    "        paginas= len(Pdf_completo.pages) # total de páginas del pdf\n",
    "    \n",
    "        for pagina in range(paginas): # iteramos el total de páginas del pdf \n",
    "            hoja =Pdf_completo.pages[pagina] #obtenemos cada página desde la 0 hasta la última \n",
    "            texto = hoja.extract_text() # extraemos el texto de la página de cada iteración \n",
    "            text.append(texto) \n",
    "    \n",
    "        PDF.close() # cerramos el pdf\n",
    "    datos_pdf={'texto':text} # añadimos la lista del texto de cada página a un diccionario\n",
    "\n",
    "    with open (json_file,'w') as archivo_json: #abrimos el json en modo escritura \"w\"\n",
    "        json.dump(datos_pdf, archivo_json, indent=4) # combierte el diccionario en en json \n",
    "        \n",
    "    \n",
    "\n",
    "convertirPDf_a_json('aep-granma-2022.pdf','json_file.json')\n"
   ]
  },
  {
   "cell_type": "code",
   "execution_count": null,
   "id": "0ff43709",
   "metadata": {},
   "outputs": [],
   "source": []
  }
 ],
 "metadata": {
  "kernelspec": {
   "display_name": "Python 3 (ipykernel)",
   "language": "python",
   "name": "python3"
  },
  "language_info": {
   "codemirror_mode": {
    "name": "ipython",
    "version": 3
   },
   "file_extension": ".py",
   "mimetype": "text/x-python",
   "name": "python",
   "nbconvert_exporter": "python",
   "pygments_lexer": "ipython3",
   "version": "3.11.5"
  }
 },
 "nbformat": 4,
 "nbformat_minor": 5
}
