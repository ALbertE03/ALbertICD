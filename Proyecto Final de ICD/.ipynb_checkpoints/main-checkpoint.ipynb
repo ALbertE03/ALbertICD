{
 "cells": [
  {
   "cell_type": "code",
   "execution_count": 46,
   "id": "8b1a5227",
   "metadata": {},
   "outputs": [
    {
     "name": "stdout",
     "output_type": "stream",
     "text": [
      "                                                    0\n",
      "0           ,CONCEPTO,2017,2018,2019,2020,2021,2022\\n\n",
      "1     0,Total de establecimientos,75,75,71,49,49,49\\n\n",
      "2                          1,Hoteles,9,8,7,12,12,12\\n\n",
      "3                 2,Villas turísticas,11,10,4,8,8,8\\n\n",
      "4        3,Otros establecimientos,55,57,60,29,29,29\\n\n",
      "5   4,Total de habitaciones,1 269,1 233,1 276,1 26...\n",
      "6                 5,Hoteles,385,400,665,772,776,669\\n\n",
      "7        6,Villas turísticas,136,143,93,187,203,223\\n\n",
      "8   7,Otros establecimientos,748,690,518,304,289,2...\n",
      "9   8,Total de plazas,2 988,2 915,1 666,2 744,2 91...\n",
      "10        9,Hoteles,821,851,1 238,1 532,1 517,1 517\\n\n",
      "11     10,Villas turísticas,348,364,222,497,537,537\\n\n",
      "12  11,Otros establecimientos,1 819,1 700,206,715,...\n"
     ]
    }
   ],
   "source": [
    "import pandas as pd \n",
    "    \n",
    "with open ('tabla0.csv','r') as tb:\n",
    "        dataFrame=pd.DataFrame(tb)\n",
    "\n",
    "        print(dataFrame)"
   ]
  },
  {
   "cell_type": "code",
   "execution_count": null,
   "id": "8999c070",
   "metadata": {},
   "outputs": [],
   "source": []
  }
 ],
 "metadata": {
  "kernelspec": {
   "display_name": "Python 3 (ipykernel)",
   "language": "python",
   "name": "python3"
  },
  "language_info": {
   "codemirror_mode": {
    "name": "ipython",
    "version": 3
   },
   "file_extension": ".py",
   "mimetype": "text/x-python",
   "name": "python",
   "nbconvert_exporter": "python",
   "pygments_lexer": "ipython3",
   "version": "3.11.5"
  }
 },
 "nbformat": 4,
 "nbformat_minor": 5
}
