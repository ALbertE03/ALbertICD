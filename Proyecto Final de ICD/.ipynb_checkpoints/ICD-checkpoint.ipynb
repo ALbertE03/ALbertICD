{
 "cells": [
  {
   "cell_type": "markdown",
   "id": "1b71f97a",
   "metadata": {},
   "source": [
    "#  GRANMA\n",
    "Desde hace décadas, Granma ha sido escenario de significativas olas migratorias que han dejado una profunda huella en su tejido social. Este flujo constante de personas que han optado por buscar nuevas oportunidades más allá de sus fronteras ha tenido un impacto significativo en diversos aspectos de la vida en la provincia. \n",
    "\n",
    "## ¿Cómo obtuve los datos?\n",
    "Todos los datos usados fueron extraidps de la Oficina Nacional de Estadisticas e Información (ONEI), en su gran mayoria de los anuarios estadísticos nacionales/provinciales y anuarios demográficos. \n",
    "\n",
    " "
   ]
  },
  {
   "cell_type": "code",
   "execution_count": 3,
   "id": "f3dee25f",
   "metadata": {
    "scrolled": false
   },
   "outputs": [],
   "source": [
    "#importar las bobliotecas\n",
    "import plotly.express as px\n",
    "import json \n",
    "import pandas as pd\n",
    "import matplotlib.pyplot as plt\n",
    "import numpy as np\n",
    "\n",
    "#cargamos los datos de json\n",
    "with open ('datos.json','r')as gr:\n",
    "    dt=gr.read()\n",
    "granma=json.loads(dt)\n",
    "\n"
   ]
  },
  {
   "cell_type": "markdown",
   "id": "a7dedaba",
   "metadata": {},
   "source": [
    "# Emigración interna\n",
    "La emigración interna es el desplazamiento de personas dentro de un mismo país, con el fin de establecerse de manera semipermanente o definitiva en otro lugar. Este fenómeno puede ser motivado por diversas razones, como factores económicos, sociales, políticos, climatológicos o ideológicos, solo se limita a los seres humanos, ya que también puede darse en animales y plantas, impulsados por factores como el cambio de estación, la disponibilidad de alimento o la reproducción.\n",
    "\n",
    "____"
   ]
  },
  {
   "cell_type": "code",
   "execution_count": null,
   "id": "5b8433f7",
   "metadata": {},
   "outputs": [],
   "source": []
  }
 ],
 "metadata": {
  "kernelspec": {
   "display_name": "Python 3 (ipykernel)",
   "language": "python",
   "name": "python3"
  },
  "language_info": {
   "codemirror_mode": {
    "name": "ipython",
    "version": 3
   },
   "file_extension": ".py",
   "mimetype": "text/x-python",
   "name": "python",
   "nbconvert_exporter": "python",
   "pygments_lexer": "ipython3",
   "version": "3.11.5"
  }
 },
 "nbformat": 4,
 "nbformat_minor": 5
}
