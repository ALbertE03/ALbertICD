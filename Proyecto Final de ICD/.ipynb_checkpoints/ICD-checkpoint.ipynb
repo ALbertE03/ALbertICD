{
 "cells": [
  {
   "cell_type": "markdown",
   "id": "e913921d",
   "metadata": {},
   "source": [
    "#    \"Raíces en Tierras Lejanas\"\n",
    "\n",
    "\n",
    "En un pequeño pueblo en la provincia de Granma, dos amigos de la infancia, Juan y Mireya, crecieron entre los extensos campos de boniatos y los frondosos árboles de mangos. A medida que crecían, surgieron en ellos sueños de explorar nuevas oportunidades en un lugar diferente, un destino que vieron en la bulliciosa ciudad de La Habana.\n",
    "Impulsados por su ambición y sed de descubrimiento, Juan y Mireya decidieron emprender el viaje hacia la capital cubana en busca de un futuro diferente. Dejaron atrás los cultivos familiares, las risas compartidas en la sombra de los árboles de mango y los atardeceres sobre los campos de caña.\n",
    "\n",
    "\n",
    "La emigración interna es el desplazamiento de personas dentro de un mismo país, con el fin de establecerse de manera semipermanente o definitiva en otro lugar. Este fenómeno puede ser motivado por diversas razones, como factores económicos, sociales, políticos, climatológicos o ideológicos, no solo se limita a los seres humanos, ya que también puede darse en animales y plantas, impulsados por factores como el cambio de estación, la disponibilidad de alimento o la reproducción, estos ultimos no siendo objeto de estudio de esta investigación.\n",
    "\n",
    "para llevar a cabo esta investigación se obtuvieron datos de la Oficina Nacional de Estadísticas e Información (ONEI) http://onei.gob.cu, sobre todo en anuarios demográficos y estadísticos nacionales/provinciales, otras fuente de información fue la base de datos en formato json del repositorio de GitHub https://github.com/postdataclub/postdataclub.github.io. de los años 2006 hasta el 2022.\n",
    " "
   ]
  },
  {
   "cell_type": "code",
   "execution_count": 5,
   "id": "f3dee25f",
   "metadata": {
    "scrolled": false
   },
   "outputs": [],
   "source": [
    "#importar las bibliotecas\n",
    "import plotly.express as px\n",
    "import json \n",
    "import pandas as pd\n",
    "import matplotlib.pyplot as plt\n",
    "import numpy as np\n",
    "\n",
    "#cargamos los datos de json\n",
    "with open ('datos.json','r')as gr:\n",
    "    dt=gr.read()\n",
    "granma=json.loads(dt)\n",
    "\n",
    "##### funciones que utilizo #####\n",
    "\n",
    "#función para sacar llenar listas con los datos del Json \n",
    "def llenar_lista(filtro1, filtro2,lista1)->list:\n",
    "    lista=[]\n",
    "    for keys,values in granma.items(): #itero el diccionario\n",
    "        if keys==filtro1: #si la clave del diccionario inicial es igual al primer filtro\n",
    "            for clave,valor in values.items(): # itero el segundo diccionario2\n",
    "                if clave in lista1: # si las claves están en la lista1 enviada por parametro\n",
    "                     for key,value in valor.items():# itero el diccionario3 del valor de las claves que esten en la lista1\n",
    "                            if key ==filtro2: # si la clave de diccionario3 es igual al ultimo filtro2\n",
    "                                lista.extend(value) #agrego a la lista las lista de listas\n",
    "              \n",
    "    return lista\n",
    "\n",
    "#función que devuelve una lista donde cada posición es la suma de cada provincia desde el 2006-2022\n",
    "def sumaEmigrantes_Provi(lista1)->list:\n",
    "    aux=[]\n",
    "    suma=0\n",
    "    for i in lista1:\n",
    "        b=sum(i)\n",
    "        aux.append(b)\n",
    "    return aux\n",
    "\n",
    "#función que devuelve el total de emigrantes por cada año\n",
    "def sumarEmigrantes_Años(lista,año)->int:\n",
    "    suma=0\n",
    "    index=año-2006\n",
    "    for i in lista:\n",
    "        suma+=i[index]\n",
    "    return suma\n",
    "\n",
    "\n",
    "#función que devuelve una lista con la suma dos listas \n",
    "def sumar_listas(lista1,lista2)->list:\n",
    "    aux1=[]\n",
    "    for i in range(len(lista1)):\n",
    "        aux1.append(lista1[i]+lista2[i])\n",
    "    return aux1\n"
   ]
  },
  {
   "cell_type": "markdown",
   "id": "8abf561b",
   "metadata": {},
   "source": [
    "\n",
    "muchas familias han tomado la decisión de emigrar hacias otros lugares, resulta interesante analizar cuantas personas emigran de granma hacia otras provincias a lo largo de los años \n",
    "\n"
   ]
  },
  {
   "cell_type": "code",
   "execution_count": null,
   "id": "85e6ee6b",
   "metadata": {},
   "outputs": [],
   "source": []
  }
 ],
 "metadata": {
  "kernelspec": {
   "display_name": "Python 3 (ipykernel)",
   "language": "python",
   "name": "python3"
  },
  "language_info": {
   "codemirror_mode": {
    "name": "ipython",
    "version": 3
   },
   "file_extension": ".py",
   "mimetype": "text/x-python",
   "name": "python",
   "nbconvert_exporter": "python",
   "pygments_lexer": "ipython3",
   "version": "3.11.5"
  }
 },
 "nbformat": 4,
 "nbformat_minor": 5
}
