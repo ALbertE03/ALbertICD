{
 "cells": [
  {
   "cell_type": "code",
   "execution_count": 61,
   "id": "49211547",
   "metadata": {},
   "outputs": [
    {
     "name": "stdout",
     "output_type": "stream",
     "text": [
      "    Unnamed: 0                   CONCEPTO   2017   2018   2019   2020   2021  \\\n",
      "0            0  Total de establecimientos     75     75     71     49     49   \n",
      "1            1                    Hoteles      9      8      7     12     12   \n",
      "2            2          Villas turísticas     11     10      4      8      8   \n",
      "3            3     Otros establecimientos     55     57     60     29     29   \n",
      "4            4      Total de habitaciones  1 269  1 233  1 276  1 263  1 268   \n",
      "5            5                    Hoteles    385    400    665    772    776   \n",
      "6            6          Villas turísticas    136    143     93    187    203   \n",
      "7            7     Otros establecimientos    748    690    518    304    289   \n",
      "8            8            Total de plazas  2 988  2 915  1 666  2 744  2 913   \n",
      "9            9                    Hoteles    821    851  1 238  1 532  1 517   \n",
      "10          10          Villas turísticas    348    364    222    497    537   \n",
      "11          11     Otros establecimientos  1 819  1 700    206    715    859   \n",
      "\n",
      "     2022  \n",
      "0      49  \n",
      "1      12  \n",
      "2       8  \n",
      "3      29  \n",
      "4   1 181  \n",
      "5     669  \n",
      "6     223  \n",
      "7     289  \n",
      "8   2 913  \n",
      "9   1 517  \n",
      "10    537  \n",
      "11    859  \n"
     ]
    }
   ],
   "source": [
    "import pandas as pd \n",
    "\n",
    "df=pd.read_csv('tabla0.csv')\n",
    "print(df)"
   ]
  },
  {
   "cell_type": "code",
   "execution_count": null,
   "id": "4b7bb5eb",
   "metadata": {},
   "outputs": [],
   "source": []
  }
 ],
 "metadata": {
  "kernelspec": {
   "display_name": "Python 3 (ipykernel)",
   "language": "python",
   "name": "python3"
  },
  "language_info": {
   "codemirror_mode": {
    "name": "ipython",
    "version": 3
   },
   "file_extension": ".py",
   "mimetype": "text/x-python",
   "name": "python",
   "nbconvert_exporter": "python",
   "pygments_lexer": "ipython3",
   "version": "3.11.5"
  }
 },
 "nbformat": 4,
 "nbformat_minor": 5
}
