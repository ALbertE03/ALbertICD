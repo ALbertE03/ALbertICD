{
 "cells": [
  {
   "cell_type": "code",
   "execution_count": 12,
   "id": "68d09763",
   "metadata": {
    "scrolled": false
   },
   "outputs": [],
   "source": [
    "import tabula\n",
    "import pandas as pd\n",
    "\n",
    "# Ruta al archivo PDF\n",
    "archivo_pdf = \"/Users/enrique.marichal/Desktop/ALbertICD/Data/aep-granma-2022.pdf\"\n",
    "\n",
    "# Extraer las tablas de la página 82 del PDF\n",
    "# Ajusta las opciones según sea necesario, como el área de recorte, etc.\n",
    "tablas = tabula.read_pdf(archivo_pdf, pages=82, multiple_tables=True)\n",
    "\n",
    "for idx, df in enumerate(tablas):\n",
    "    # Guardar cada tabla en un archivo CSV\n",
    "    archivo_csv_salida = f\"mujeres2.csv\"  \n",
    "    \n",
    "    # Guardar la tabla en un archivo CSV\n",
    "    df.to_csv(archivo_csv_salida, index=True)\n",
    "    \n",
    "    \n"
   ]
  },
  {
   "cell_type": "code",
   "execution_count": null,
   "id": "a3b3a064",
   "metadata": {},
   "outputs": [],
   "source": []
  }
 ],
 "metadata": {
  "kernelspec": {
   "display_name": "Python 3 (ipykernel)",
   "language": "python",
   "name": "python3"
  },
  "language_info": {
   "codemirror_mode": {
    "name": "ipython",
    "version": 3
   },
   "file_extension": ".py",
   "mimetype": "text/x-python",
   "name": "python",
   "nbconvert_exporter": "python",
   "pygments_lexer": "ipython3",
   "version": "3.11.5"
  }
 },
 "nbformat": 4,
 "nbformat_minor": 5
}
